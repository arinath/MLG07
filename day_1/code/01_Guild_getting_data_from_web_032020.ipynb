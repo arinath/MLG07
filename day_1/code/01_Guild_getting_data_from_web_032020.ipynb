{
 "cells": [
  {
   "cell_type": "markdown",
   "metadata": {},
   "source": [
    "# Getting Data from the Web\n",
    "\n",
    "\n",
    "### Workshop Duration: ~ 1 Hour\n",
    "\n",
    "*80 Minutes*\n",
    "\n",
    "An introduction to programmatically accessing data from websites and APIs using Python. "
   ]
  },
  {
   "cell_type": "markdown",
   "metadata": {},
   "source": [
    "## How to use this Notebook <a id=\"1\"></a>\n",
    "\n",
    "#### 1. Examples: This is your opportunity to observe and learn. Most of the examples contains code and information that could be used to solve you exercise.\n",
    "#### 2. Exercises: This is your opportunity to get hands on and try solving the challenges.\n",
    " \n",
    " - *Running the cells in the example section may break since there are references to file paths not on your local system.*\n",
    " - *If you run a cell that references a library that has not bee install you will see an error. Work with the supporting instructors to get this set up if you are having trouble.*\n",
    " - *This workshop contains lots of infomration and time is limited. We encourage everyone to spend time working these examples and exercises in detail after completing this bootcamp.*\n",
    " "
   ]
  },
  {
   "cell_type": "markdown",
   "metadata": {},
   "source": [
    "#### AGENDA\n",
    "\n",
    "- Example 1: Getting Movie Data from IMDB (10 Minutes)\n",
    "- Exercise 1: Movie Release Date: defining a function (5 Minutes)\n",
    "- Example 2: Color Wheel (10 Minutes)\n",
    "- Example 3: Plotly - Brief Overview (5 Minutes)\n",
    "- Exercise 2: Getting Data Using API Calls (30 Minutes)\n",
    "- Example 4: Intro to Web Scraping (10 Minutes)\n",
    "- Example 5: Weather Analysis (5 Minutes - SKIP TO UFO's)\n",
    "- Exercise 4: UFO Sigtings (10-15 Minutes)"
   ]
  },
  {
   "cell_type": "markdown",
   "metadata": {},
   "source": [
    "## API (Application Programming Interface) <a id=\"1\"></a>\n",
    "\n",
    "What is an API?\n",
    "- Structured way to expose specific functionality and data to users\n",
    "- Web APIs usually follow the [REST](https://en.wikipedia.org/wiki/Representational_state_transfer) standard (i.e. stateless)\n",
    "\n",
    "How to interact with an API:\n",
    "- Make a \"request\" to a specific URL (an \"endpoint\"), and get the data back in a \"response\"\n",
    "- Most relevant request method for us is GET (other methods: POST, PUT, DELETE)\n",
    "- Response is often JSON or XML format\n",
    "- Web console is sometimes available (allows you to explore an API)\n",
    "\n",
    "## Supplementary Reading\n",
    "\n",
    "1. [Requests: Python Library Documentation](http://docs.python-requests.org/en/master/user/quickstart/)\n",
    "\n",
    "2. [OAuth2 Documentation](https://oauth.net/2/)\n",
    "\n",
    "3. [What is an API & How Does is Work](https://blogs.mulesoft.com/biz/tech-ramblings-biz/what-are-apis-how-do-apis-work/)\n",
    "\n",
    "4. [API Directory](https://www.programmableweb.com/apis/directory)"
   ]
  },
  {
   "cell_type": "markdown",
   "metadata": {},
   "source": [
    "## Example 1: Getting Movie Data from IMDB <a id=\"1B\"></a>\n",
    "*10 Minutes*"
   ]
  },
  {
   "cell_type": "code",
   "execution_count": 1,
   "metadata": {},
   "outputs": [],
   "source": [
    "import pandas as pd\n",
    "import requests"
   ]
  },
  {
   "cell_type": "code",
   "execution_count": 2,
   "metadata": {},
   "outputs": [
    {
     "name": "stdout",
     "output_type": "stream",
     "text": [
      "2.24.0\n"
     ]
    }
   ],
   "source": [
    "print(requests.__version__)"
   ]
  },
  {
   "cell_type": "markdown",
   "metadata": {},
   "source": [
    "### Using the Requests Library\n",
    "We will submit a get request to specific movie to the URL: `http://www.omdbapi.com`"
   ]
  },
  {
   "cell_type": "code",
   "execution_count": 4,
   "metadata": {},
   "outputs": [],
   "source": [
    "API_KEY = \"53bfc95d\" # <- Super Secret Shhhh\n",
    "title = \"Green Book\" #Search for a movie you like\n",
    "url = 'http://www.omdbapi.com?'\n",
    "\n",
    "payload = {'t': title,\n",
    "           'apikey': API_KEY}\n",
    "\n",
    "r = requests.get('http://www.omdbapi.com?', params=payload)"
   ]
  },
  {
   "cell_type": "code",
   "execution_count": 5,
   "metadata": {},
   "outputs": [
    {
     "data": {
      "text/plain": [
       "200"
      ]
     },
     "execution_count": 5,
     "metadata": {},
     "output_type": "execute_result"
    }
   ],
   "source": [
    "# check the status: 200 means success, 4xx or 5xx means error\n",
    "r.status_code"
   ]
  },
  {
   "cell_type": "code",
   "execution_count": 6,
   "metadata": {},
   "outputs": [
    {
     "data": {
      "text/plain": [
       "'http://www.omdbapi.com/?t=Green+Book&apikey=53bfc95d'"
      ]
     },
     "execution_count": 6,
     "metadata": {},
     "output_type": "execute_result"
    }
   ],
   "source": [
    "r.url"
   ]
  },
  {
   "cell_type": "markdown",
   "metadata": {},
   "source": [
    "We know from the documentation on omdapi.com that the response is a `JSON` object."
   ]
  },
  {
   "cell_type": "code",
   "execution_count": 7,
   "metadata": {},
   "outputs": [
    {
     "data": {
      "text/plain": [
       "{'Title': 'Green Book',\n",
       " 'Year': '2018',\n",
       " 'Rated': 'PG-13',\n",
       " 'Released': '16 Nov 2018',\n",
       " 'Runtime': '130 min',\n",
       " 'Genre': 'Biography, Comedy, Drama',\n",
       " 'Director': 'Peter Farrelly',\n",
       " 'Writer': 'Nick Vallelonga, Brian Hayes Currie, Peter Farrelly',\n",
       " 'Actors': 'Viggo Mortensen, Mahershala Ali, Linda Cardellini',\n",
       " 'Plot': 'A working-class Italian-American bouncer becomes the driver for an African-American classical pianist on a tour of venues through the 1960s American South.',\n",
       " 'Language': 'English, Italian, Russian, German',\n",
       " 'Country': 'United States, China',\n",
       " 'Awards': 'Won 3 Oscars. 59 wins & 124 nominations total',\n",
       " 'Poster': 'https://m.media-amazon.com/images/M/MV5BYzIzYmJlYTYtNGNiYy00N2EwLTk4ZjItMGYyZTJiOTVkM2RlXkEyXkFqcGdeQXVyODY1NDk1NjE@._V1_SX300.jpg',\n",
       " 'Ratings': [{'Source': 'Internet Movie Database', 'Value': '8.2/10'},\n",
       "  {'Source': 'Rotten Tomatoes', 'Value': '77%'},\n",
       "  {'Source': 'Metacritic', 'Value': '69/100'}],\n",
       " 'Metascore': '69',\n",
       " 'imdbRating': '8.2',\n",
       " 'imdbVotes': '469,040',\n",
       " 'imdbID': 'tt6966692',\n",
       " 'Type': 'movie',\n",
       " 'DVD': '12 Mar 2019',\n",
       " 'BoxOffice': '$85,080,171',\n",
       " 'Production': 'N/A',\n",
       " 'Website': 'N/A',\n",
       " 'Response': 'True'}"
      ]
     },
     "execution_count": 7,
     "metadata": {},
     "output_type": "execute_result"
    }
   ],
   "source": [
    "r.json()"
   ]
  },
  {
   "cell_type": "code",
   "execution_count": 8,
   "metadata": {},
   "outputs": [
    {
     "data": {
      "text/plain": [
       "'2018'"
      ]
     },
     "execution_count": 8,
     "metadata": {},
     "output_type": "execute_result"
    }
   ],
   "source": [
    "#We can call out specific elements\n",
    "r.json()['Year']"
   ]
  },
  {
   "cell_type": "markdown",
   "metadata": {},
   "source": [
    "What happens if the movie isn't found?"
   ]
  },
  {
   "cell_type": "code",
   "execution_count": 9,
   "metadata": {},
   "outputs": [
    {
     "data": {
      "text/plain": [
       "{'Response': 'False', 'Error': 'Movie not found!'}"
      ]
     },
     "execution_count": 9,
     "metadata": {},
     "output_type": "execute_result"
    }
   ],
   "source": [
    "payload = {'apikey': API_KEY, \n",
    "          't': 'Machine Learning Rules!'}\n",
    "\n",
    "r = requests.get(url, params=payload)\n",
    "r.json()"
   ]
  },
  {
   "cell_type": "markdown",
   "metadata": {},
   "source": [
    "## Exercise 1 Movie Release Date\n",
    "*5 Minutes*\n",
    "##### Define a function to return the year of release of a given movie title, return None if no movie found."
   ]
  },
  {
   "cell_type": "code",
   "execution_count": 10,
   "metadata": {},
   "outputs": [],
   "source": [
    "def get_movie_year_from_title(movie_title):\n",
    "    return -1"
   ]
  },
  {
   "cell_type": "code",
   "execution_count": 11,
   "metadata": {},
   "outputs": [
    {
     "data": {
      "text/plain": [
       "-1"
      ]
     },
     "execution_count": 11,
     "metadata": {},
     "output_type": "execute_result"
    }
   ],
   "source": [
    "get_movie_year_from_title(\"Jungle Book\")"
   ]
  },
  {
   "cell_type": "markdown",
   "metadata": {},
   "source": [
    "### Business Use Case Discussion\n",
    "* How might our clients ask us to leverage text data such as this to inform business decisions?\n",
    "* What could we do if we mashed this movie meta data up with movie review data from a source such as Rotten Tomatoes? "
   ]
  },
  {
   "cell_type": "markdown",
   "metadata": {},
   "source": [
    "## Example 2: Color Wheel <a id='1C'></a>\n",
    "*10 Minutes*\n",
    "\n",
    "In this example, accessing data on some of the colors of Crayola® palette via the Smithosian Cooper Hewitt's API. Archievists at Cooper Hewitt use this palette to tag images of objects by color. Downstream, these tags allow for a greater accuracy in information retrival for users looking for objects of a certain hue.\n",
    "\n",
    "### Business Use Case\n",
    "A major online retailer aggregator has asked to Deloitte to help it increase the efficetiveness of its search engine. They found that users are searching their catalog of over 100,000 items by color. However, many of the items don't have color tags making the search process frustrating for users. \n",
    "\n",
    "Our role will be to leverage the Cooper Hewitt's extensive online catalog of design objects tagged with colors to build a training set for automated tagging for the client with machine learning. \n",
    "\n",
    "If our future algorithm is successful, it will save our client thousands of hours to manual labor tagging the images on their website.\n",
    "\n",
    "\n",
    "*__Note:__ This API implements the new standard for API autentication by using OAuth2 with access tokens. I've created a token for us ahead of time.*\n",
    "\n",
    "[Article on Cooper Hewitt's API](https://labs.cooperhewitt.org/2014/the-api-at-the-center-of-the-museum/)\n",
    "\n",
    "[API Documentation](https://collection.cooperhewitt.org/api/)"
   ]
  },
  {
   "cell_type": "code",
   "execution_count": 12,
   "metadata": {},
   "outputs": [],
   "source": [
    "key = \"84976de03204c1d366ae0224bf21d103\" # less secure\n",
    "token = \"2f49c9d05b2faf779d11420637d99f57\" # more secure which uses the OAuth2 authentication"
   ]
  },
  {
   "cell_type": "code",
   "execution_count": 13,
   "metadata": {},
   "outputs": [],
   "source": [
    "base_url = 'https://api.collection.cooperhewitt.org/rest/?method=cooperhewitt.colors.palettes.getInfo&access_token=%s&palette=crayola' % token"
   ]
  },
  {
   "cell_type": "code",
   "execution_count": 14,
   "metadata": {},
   "outputs": [
    {
     "data": {
      "text/plain": [
       "'https://api.collection.cooperhewitt.org/rest/?method=cooperhewitt.colors.palettes.getInfo&access_token=2f49c9d05b2faf779d11420637d99f57&palette=crayola'"
      ]
     },
     "execution_count": 14,
     "metadata": {},
     "output_type": "execute_result"
    }
   ],
   "source": [
    "base_url"
   ]
  },
  {
   "cell_type": "code",
   "execution_count": 15,
   "metadata": {},
   "outputs": [],
   "source": [
    "r = requests.get(base_url)"
   ]
  },
  {
   "cell_type": "code",
   "execution_count": 16,
   "metadata": {},
   "outputs": [
    {
     "data": {
      "text/plain": [
       "{'palette': 'crayola',\n",
       " 'colors': {'#fc89ac': {'name': 'Tickle Me Pink'},\n",
       "  '#1f75fe': {'name': 'Blue'},\n",
       "  '#a8e4a0': {'name': 'Granny Smith Apple'},\n",
       "  '#fc74fd': {'name': 'Pink Flamingo'},\n",
       "  '#7366bd': {'name': 'Blue Violet'},\n",
       "  '#18a7b5': {'name': 'Teal Blue'},\n",
       "  '#1164b4': {'name': 'Green Blue'},\n",
       "  '#b2ec5d': {'name': 'Inchworm'},\n",
       "  '#58427c': {'name': 'Cyber Grape'},\n",
       "  '#bf4f51': {'name': 'Bittersweet Shimmer'},\n",
       "  '#5d76cb': {'name': 'Indigo'},\n",
       "  '#c5e384': {'name': 'Yellow Green'},\n",
       "  '#8fd400': {'name': 'Sheen Green'},\n",
       "  '#4a646c': {'name': 'Deep Space Sparkle'},\n",
       "  '#ffbcd9': {'name': 'Cotton Candy'},\n",
       "  '#ff7f49': {'name': 'Burnt Orange'},\n",
       "  '#fefe22': {'name': 'Laser Lemon'},\n",
       "  '#bc5d58': {'name': 'Chestnut'},\n",
       "  '#9fe2bf': {'name': 'Sea Green'},\n",
       "  '#000000': {'name': 'Black'},\n",
       "  '#414a4c': {'name': 'Outer Space'},\n",
       "  '#7851a9': {'name': 'Royal Purple'},\n",
       "  '#ace5ee': {'name': 'Blizzard Blue'},\n",
       "  '#a2add0': {'name': 'Wild Blue Yonder'},\n",
       "  '#dd9475': {'name': 'Copper'},\n",
       "  '#ffffff': {'name': 'White'},\n",
       "  '#efdecd': {'name': 'Almond'},\n",
       "  '#bab86c': {'name': 'Olive Green'},\n",
       "  '#1974d2': {'name': 'Navy Blue'},\n",
       "  '#b4674d': {'name': 'Brown'},\n",
       "  '#ebc7df': {'name': 'Thistle'},\n",
       "  '#ff9baa': {'name': 'Salmon'},\n",
       "  '#87a96b': {'name': 'Asparagus'},\n",
       "  '#71bc78': {'name': 'Fern'},\n",
       "  '#8e4585': {'name': 'Plum'},\n",
       "  '#fae7b5': {'name': 'Banana Mania'},\n",
       "  '#979aaa': {'name': 'Manatee'},\n",
       "  '#aaf0d1': {'name': 'Magic Mint'},\n",
       "  '#c5d0e6': {'name': 'Periwinkle'},\n",
       "  '#fd5e53': {'name': 'Sunset Orange'},\n",
       "  '#80daeb': {'name': 'Sky Blue'},\n",
       "  '#2e5894': {'name': \"B'dazzled Blue\"},\n",
       "  '#ff48d0': {'name': 'Razzle Dazzle Rose'},\n",
       "  '#dd4492': {'name': 'Cerise'},\n",
       "  '#eceabe': {'name': 'Spring Green'},\n",
       "  '#1a4876': {'name': 'Midnight Blue'},\n",
       "  '#9aceeb': {'name': 'Cornflower'},\n",
       "  '#f8d568': {'name': 'Orange Yellow'},\n",
       "  '#e7c697': {'name': 'Gold'},\n",
       "  '#1cac78': {'name': 'Green'},\n",
       "  '#9c7c38': {'name': 'Metallic Sunburst'},\n",
       "  '#9f8170': {'name': 'Beaver'},\n",
       "  '#a57164': {'name': 'Blast Off Bronze'},\n",
       "  '#ff6e4a': {'name': 'Outrageous Orange'},\n",
       "  '#3bb08f': {'name': 'Jungle Green'},\n",
       "  '#fff44f': {'name': 'Lemon Yellow'},\n",
       "  '#ff43a4': {'name': 'Wild Strawberry'},\n",
       "  '#1cd3a2': {'name': 'Caribbean Green'},\n",
       "  '#cda4de': {'name': 'Wisteria'},\n",
       "  '#ffa343': {'name': 'Neon Carrot'},\n",
       "  '#efcdb8': {'name': 'Desert Sand'},\n",
       "  '#a5694f': {'name': 'Sepia'},\n",
       "  '#8d4e85': {'name': 'Razzmic Berry'},\n",
       "  '#ff7538': {'name': 'Orange'},\n",
       "  '#cb4154': {'name': 'Brick Red'},\n",
       "  '#17806d': {'name': 'Tropical Rain Forest'},\n",
       "  '#ffa089': {'name': 'Vivid Tangerine'},\n",
       "  '#cd9575': {'name': 'Antique Brass'},\n",
       "  '#cdc5c2': {'name': 'Silver'},\n",
       "  '#85754e': {'name': 'Gold Fusion'},\n",
       "  '#6699cc': {'name': 'Blue Gray'},\n",
       "  '#ea7e5d': {'name': 'Burnt Sienna'},\n",
       "  '#c46210': {'name': 'Alloy Orange'},\n",
       "  '#fdbcb4': {'name': 'Melon'},\n",
       "  '#d68a59': {'name': 'Raw Sienna'},\n",
       "  '#ffaacc': {'name': 'Carnation Pink'},\n",
       "  '#45cea2': {'name': 'Shamrock'},\n",
       "  '#ef98aa': {'name': 'Mauvelous'},\n",
       "  '#6dae81': {'name': 'Forest Green'},\n",
       "  '#ffa474': {'name': 'Atomic Tangerine'},\n",
       "  '#324ab2': {'name': 'Violet Blue'},\n",
       "  '#fddde6': {'name': 'Piggy Pink'},\n",
       "  '#ffcf48': {'name': 'Sunglow'},\n",
       "  '#c54b8c': {'name': 'Mulberry'},\n",
       "  '#0d98ba': {'name': 'Blue Green'},\n",
       "  '#f75394': {'name': 'Violet Red'},\n",
       "  '#ff496c': {'name': 'Radical Red'},\n",
       "  '#1fcecb': {'name': \"Robin's Egg Blue\"},\n",
       "  '#fb7efd': {'name': 'Shocking Pink'},\n",
       "  '#fcd975': {'name': 'Goldenrod'},\n",
       "  '#9d81ba': {'name': \"Purple Mountain's Majesty\"},\n",
       "  '#ffff99': {'name': 'Canary'},\n",
       "  '#fce883': {'name': 'Yellow'},\n",
       "  '#0a7e8c': {'name': 'Metallic Seaweed'},\n",
       "  '#6e5160': {'name': 'Eggplant'},\n",
       "  '#ff8243': {'name': 'Mango Tango'},\n",
       "  '#c8385a': {'name': 'Maroon'},\n",
       "  '#ceff1d': {'name': 'Electric Lime'},\n",
       "  '#319177': {'name': 'Illuminating Emerald'},\n",
       "  '#ee204d': {'name': 'Red'},\n",
       "  '#ff5349': {'name': 'Red Orange'},\n",
       "  '#e3256b': {'name': 'Razzmatazz'},\n",
       "  '#8f509d': {'name': 'Vivid Violet'},\n",
       "  '#ffff66': {'name': 'Unmellow Yellow'},\n",
       "  '#faa76c': {'name': 'Tan'},\n",
       "  '#ff1dce': {'name': 'Hot Magenta'},\n",
       "  '#76ff7a': {'name': \"Screamin' Green\"},\n",
       "  '#f664af': {'name': 'Magenta'},\n",
       "  '#e6a8d7': {'name': 'Orchid'},\n",
       "  '#fcb4d5': {'name': 'Lavender'},\n",
       "  '#78dbe2': {'name': 'Aquamarine'},\n",
       "  '#c0448f': {'name': 'Red Violet'},\n",
       "  '#926eae': {'name': 'Violet (Purple)'},\n",
       "  '#158078': {'name': 'Pine Green'},\n",
       "  '#ffcfab': {'name': 'Peach'},\n",
       "  '#95918c': {'name': 'Gray'},\n",
       "  '#30ba8f': {'name': 'Mountain Meadow'},\n",
       "  '#f0e891': {'name': 'Green Yellow'},\n",
       "  '#714b23': {'name': 'Raw Umber'},\n",
       "  '#deaa88': {'name': 'Tumbleweed'},\n",
       "  '#0081ab': {'name': 'Steel Blue'},\n",
       "  '#77dde7': {'name': 'Turquoise Blue'},\n",
       "  '#f78fa7': {'name': 'Pink Sherbert'},\n",
       "  '#757575': {'name': 'Sonic Silver'},\n",
       "  '#ffbd88': {'name': 'Macaroni and Cheese'},\n",
       "  '#1ca9c9': {'name': 'Pacific Blue'},\n",
       "  '#2b6cc4': {'name': 'Denim'},\n",
       "  '#a2a2d0': {'name': 'Blue Bell'},\n",
       "  '#cc6666': {'name': 'Fuzzy Wuzzy'},\n",
       "  '#7442c8': {'name': 'Purple Heart'},\n",
       "  '#cd4a4c': {'name': 'Mahogany'},\n",
       "  '#ffae42': {'name': 'Yellow Orange'},\n",
       "  '#ca3767': {'name': 'Jazzberry Jam'},\n",
       "  '#ff2b2b': {'name': 'Orange Red'},\n",
       "  '#de5d83': {'name': 'Blush'},\n",
       "  '#fc2847': {'name': 'Scarlet'},\n",
       "  '#fc6c85': {'name': 'Wild Watermelon'},\n",
       "  '#fddb6d': {'name': 'Dandelion'},\n",
       "  '#dbd7d2': {'name': 'Timberwolf'},\n",
       "  '#d98695': {'name': 'Shimmering Blush'},\n",
       "  '#fd7c6e': {'name': 'Bittersweet'},\n",
       "  '#9c2542': {'name': \"Big Dip O' Ruby\"},\n",
       "  '#edd19c': {'name': 'Maize'},\n",
       "  '#c364c5': {'name': 'Fuchsia'},\n",
       "  '#1dacd6': {'name': 'Cerulean'},\n",
       "  '#fe4eda': {'name': 'Purple Pizzazz'},\n",
       "  '#fdd9b5': {'name': 'Apricot'},\n",
       "  '#8a795d': {'name': 'Shadow'},\n",
       "  '#b0b7c6': {'name': 'Cadet Blue'}},\n",
       " 'stat': 'ok',\n",
       " 'event_publishing_state': 'ok'}"
      ]
     },
     "execution_count": 16,
     "metadata": {},
     "output_type": "execute_result"
    }
   ],
   "source": [
    "r.json()"
   ]
  },
  {
   "cell_type": "code",
   "execution_count": 17,
   "metadata": {},
   "outputs": [],
   "source": [
    "_hex = list(r.json()['colors'].keys())\n",
    "names = [k['name'] for k in list(r.json()['colors'].values())]"
   ]
  },
  {
   "cell_type": "code",
   "execution_count": 18,
   "metadata": {},
   "outputs": [
    {
     "data": {
      "text/html": [
       "<div>\n",
       "<style scoped>\n",
       "    .dataframe tbody tr th:only-of-type {\n",
       "        vertical-align: middle;\n",
       "    }\n",
       "\n",
       "    .dataframe tbody tr th {\n",
       "        vertical-align: top;\n",
       "    }\n",
       "\n",
       "    .dataframe thead th {\n",
       "        text-align: right;\n",
       "    }\n",
       "</style>\n",
       "<table border=\"1\" class=\"dataframe\">\n",
       "  <thead>\n",
       "    <tr style=\"text-align: right;\">\n",
       "      <th></th>\n",
       "      <th>hex</th>\n",
       "      <th>name</th>\n",
       "    </tr>\n",
       "  </thead>\n",
       "  <tbody>\n",
       "    <tr>\n",
       "      <th>0</th>\n",
       "      <td>#fc89ac</td>\n",
       "      <td>Tickle Me Pink</td>\n",
       "    </tr>\n",
       "    <tr>\n",
       "      <th>1</th>\n",
       "      <td>#1f75fe</td>\n",
       "      <td>Blue</td>\n",
       "    </tr>\n",
       "    <tr>\n",
       "      <th>2</th>\n",
       "      <td>#a8e4a0</td>\n",
       "      <td>Granny Smith Apple</td>\n",
       "    </tr>\n",
       "    <tr>\n",
       "      <th>3</th>\n",
       "      <td>#fc74fd</td>\n",
       "      <td>Pink Flamingo</td>\n",
       "    </tr>\n",
       "    <tr>\n",
       "      <th>4</th>\n",
       "      <td>#7366bd</td>\n",
       "      <td>Blue Violet</td>\n",
       "    </tr>\n",
       "  </tbody>\n",
       "</table>\n",
       "</div>"
      ],
      "text/plain": [
       "       hex                name\n",
       "0  #fc89ac      Tickle Me Pink\n",
       "1  #1f75fe                Blue\n",
       "2  #a8e4a0  Granny Smith Apple\n",
       "3  #fc74fd       Pink Flamingo\n",
       "4  #7366bd         Blue Violet"
      ]
     },
     "execution_count": 18,
     "metadata": {},
     "output_type": "execute_result"
    }
   ],
   "source": [
    "# DataFrame of the results\n",
    "crayola= pd.DataFrame({'hex': _hex, 'name':names})\n",
    "\n",
    "# crayola.describe()\n",
    "crayola.head()"
   ]
  },
  {
   "cell_type": "markdown",
   "metadata": {},
   "source": [
    "### Red/Blue/Green\n",
    "The hex code is by design very dense information. Let's parse out the individual color components from the data.\n",
    "\n",
    "[Hex to RGB Converstion by Hand](https://www.rapidtables.com/convert/color/how-hex-to-rgb.html)\n",
    "\n",
    "[Hex to RGB Code](https://stackoverflow.com/questions/29643352/converting-hex-to-rgb-value-in-python)\n",
    "\n",
    "[int() Class](https://docs.python.org/3.4/library/functions.html?highlight=int#int)"
   ]
  },
  {
   "cell_type": "code",
   "execution_count": null,
   "metadata": {
    "scrolled": true
   },
   "outputs": [],
   "source": [
    "# function that converts a single list element into it's corresponding RGB Value\n",
    "\n",
    "def hex_to_rbg(_hexcode):\n",
    "    h = _hexcode.lstrip('#') # strips the function of the hash \n",
    "    rbg = tuple(int(h[i:i+2], 16) for i in (0, 2 ,4)) #int converts our hex to a rgb value for us by passing base = 16\n",
    "    return rbg"
   ]
  },
  {
   "cell_type": "code",
   "execution_count": null,
   "metadata": {
    "scrolled": false
   },
   "outputs": [],
   "source": [
    "rbg = [hex_to_rbg(h) for h in crayola['hex'].tolist()]"
   ]
  },
  {
   "cell_type": "code",
   "execution_count": null,
   "metadata": {},
   "outputs": [],
   "source": [
    "rbg"
   ]
  },
  {
   "cell_type": "code",
   "execution_count": null,
   "metadata": {},
   "outputs": [],
   "source": [
    "rbg = pd.DataFrame(rbg, columns=['red', 'green', 'blue'])\n",
    "crayola = pd.concat([crayola, rbg], axis=1)\n",
    "crayola.head()"
   ]
  },
  {
   "cell_type": "code",
   "execution_count": null,
   "metadata": {},
   "outputs": [],
   "source": [
    "crayola.to_csv('/Users/rvanniekerk/OneDrive - Deloitte (O365D)/ML Guild Emminence/Apprentice ML Guild Course/Apprentice_Level_04222019/Day 1/Outputs/crayola.csv', index=False)"
   ]
  },
  {
   "cell_type": "markdown",
   "metadata": {},
   "source": [
    "## Example 3:  Plotly - Brief Overview\n",
    "*5 Minutes*\n",
    "\n",
    "Python plotting library for collaborative, interactive, publication-quality graphs.\n",
    "\n",
    "[Plotly Website Link](https://pypi.org/project/plotly/)\n",
    "\n",
    "*Note: Plotly will not work if you have run the above cells multiple times. Please click on 'Kernel' and select Restart & Clear Output as the incoming data needs to be correct*\n",
    "*Note: Plotly also has a rendering bug while using JupyterLab, so if your graph does not render open a Jupyter Notebook as that should work*"
   ]
  },
  {
   "cell_type": "code",
   "execution_count": null,
   "metadata": {
    "scrolled": true
   },
   "outputs": [],
   "source": [
    "# import plotly.offline as py\n",
    "# import plotly.graph_objs as go\n",
    "# py.init_notebook_mode(connected=False)\n",
    "\n",
    "import plotly.offline as py\n",
    "from plotly import __version__\n",
    "from plotly.offline import init_notebook_mode, iplot\n",
    "from plotly.graph_objs import Scatter\n",
    "import plotly.graph_objs as go\n",
    "\n",
    "py.init_notebook_mode(connected=False)"
   ]
  },
  {
   "cell_type": "code",
   "execution_count": null,
   "metadata": {},
   "outputs": [],
   "source": [
    "print(\"Plotly Version\",__version__)"
   ]
  },
  {
   "cell_type": "code",
   "execution_count": null,
   "metadata": {},
   "outputs": [],
   "source": [
    "trace = go.Scatter3d(\n",
    "    x = crayola['red'],\n",
    "    y = crayola['green'],\n",
    "    z = crayola['blue'],\n",
    "    mode = 'markers',\n",
    "    marker = dict(\n",
    "        color = crayola['hex'].tolist(),\n",
    "        size = 5,\n",
    "        symbol = 'circle',\n",
    "        opacity = 1))\n",
    "\n",
    "layout = go.Layout(margin=dict(l=0, r=0, b=0, t=0))"
   ]
  },
  {
   "cell_type": "code",
   "execution_count": null,
   "metadata": {
    "scrolled": false
   },
   "outputs": [],
   "source": [
    "fig = go.Figure(data=[trace],layout=layout)\n",
    "py.iplot(fig, filename='Crayola_Scatter.html')"
   ]
  },
  {
   "cell_type": "markdown",
   "metadata": {},
   "source": [
    "## Exercise # 2: Getting Data\n",
    "*30 Minutes*\n",
    "\n",
    "Build out our training dataset by studying the API documentation on the Cooper Hewit Website. We need a dataset with the museum curent objects on display (only 100 items), the images associated with those items, and the color(s) of those items.\n",
    "\n",
    "* Store the the name of the objects and other meta data in a csv called `current_collection.csv`\n",
    "* Place the images in a folder named `collection_images`.\n",
    "  * You can used the request method `content` to access the file to write it to a file.\n",
    "  * Raw Example: `open('image.jpg', 'wb').write(request.content)`\n",
    "* Grab the color information and place it another csv `current_collection_colors.csv`\n",
    "\n",
    "The API documentation is available [here](https://collection.cooperhewitt.org/api/methods/). You will want to use the following end points: \n",
    "1. [`getOnDisplay`](https://collection.cooperhewitt.org/api/methods/cooperhewitt.objects.getOnDisplay)\n",
    "2. [`getImages`](https://collection.cooperhewitt.org/api/methods/cooperhewitt.objects.getImages)\n",
    "3. [`getColors`](https://collection.cooperhewitt.org/api/methods/cooperhewitt.objects.getColors)\n",
    "\n",
    "key = \"84976de03204c1d366ae0224bf21d103\", \n",
    "token = \"2f49c9d05b2faf779d11420637d99f57\"\n",
    "\n",
    "[hint 1: Break down your problem and use pd.DataFrame.from_records(r.json()) or just simply r.json() to view data as a starting point](https://pandas.pydata.org/pandas-docs/stable/reference/api/pandas.DataFrame.from_records.html)"
   ]
  },
  {
   "cell_type": "markdown",
   "metadata": {},
   "source": [
    "## Ex: 2.1 - (getOnDisplay) Let's start by using the object.getOnDisplay api call to get all items on display at the Museum \n",
    "\n",
    "1. You're free to achieve this however you wish.\n",
    "2. Limit the number of items in your DataFrame to 100.\n",
    "3. Write all 100 resultant rows and fields to a DataFrame."
   ]
  },
  {
   "cell_type": "code",
   "execution_count": null,
   "metadata": {},
   "outputs": [],
   "source": [
    "import pandas as pd\n",
    "import requests"
   ]
  },
  {
   "cell_type": "code",
   "execution_count": null,
   "metadata": {},
   "outputs": [],
   "source": [
    "#Here's something to get you started, it contains the URL and payload with embedded method you need to use.\n",
    "token = \"2f49c9d05b2faf779d11420637d99f57\"\n",
    "api = 'https://api.collection.cooperhewitt.org/rest/?'\n",
    "\n",
    "\n",
    "payload = {'access_token': token,\n",
    "              'method': 'cooperhewitt.objects.getOnDisplay'}\n",
    "\n",
    "r = requests.get(api, params=payload)"
   ]
  },
  {
   "cell_type": "code",
   "execution_count": null,
   "metadata": {},
   "outputs": [],
   "source": [
    "# Start by breaking down the problem."
   ]
  },
  {
   "cell_type": "code",
   "execution_count": null,
   "metadata": {},
   "outputs": [],
   "source": [
    "# When you understand how your data is structured and what you would like to achieve, try building a function to do this for you. For this excercise it's not a requirement."
   ]
  },
  {
   "cell_type": "code",
   "execution_count": null,
   "metadata": {},
   "outputs": [],
   "source": [
    "# Write your results to a CSV using the to_csv() method - you can quickly determine a path by typing \"pwd\" into a cell and running it."
   ]
  },
  {
   "cell_type": "code",
   "execution_count": null,
   "metadata": {},
   "outputs": [],
   "source": []
  },
  {
   "cell_type": "code",
   "execution_count": null,
   "metadata": {},
   "outputs": [],
   "source": []
  },
  {
   "cell_type": "code",
   "execution_count": null,
   "metadata": {},
   "outputs": [],
   "source": []
  },
  {
   "cell_type": "markdown",
   "metadata": {},
   "source": [
    "## Ex: 2.2 - getImages: Now let's build a function that uses the object.getImages method api call to retrieve and store our images.\n",
    "\n",
    "1. Grab 100 Images using the getImages method.\n",
    "2. Write all 100 image's to the specified folder on your local system (see hints below).\n",
    "3. Remember each image has an object_id associated with it incase you were wondering which variable to loop through.\n",
    "\n",
    "[hint 2: os python library helps you write/read files on your local system](https://docs.python.org/3/library/os.html)"
   ]
  },
  {
   "cell_type": "code",
   "execution_count": null,
   "metadata": {},
   "outputs": [],
   "source": [
    "# Here's something to get you started, it contains the URL and payload with embedded method you need to use. Please note that in this case a function would \n",
    "# be very helpfull in order to loop through your data. I've given you a head start by passing a single object_id. You will need to figure out how to loop through your set of 100 ojbect\n",
    "# id's, writing them to the folder called collection_images.\n",
    "\n",
    "token = \"2f49c9d05b2faf779d11420637d99f57\"\n",
    "api = 'https://api.collection.cooperhewitt.org/rest/?'     \n",
    "payload = {'access_token': token,\n",
    "           'method': 'cooperhewitt.objects.getImages',\n",
    "           'object_id': '18488027'}\n",
    "\n",
    "r = requests.get(api, params=payload)\n",
    "\n",
    "obj = pd.DataFrame.from_records(r.json())"
   ]
  },
  {
   "cell_type": "code",
   "execution_count": null,
   "metadata": {},
   "outputs": [],
   "source": [
    "# Start by breaking down the problem."
   ]
  },
  {
   "cell_type": "code",
   "execution_count": null,
   "metadata": {},
   "outputs": [],
   "source": [
    "# When you understand how your data is structured and what you would like to achieve, you'll need to build a function that loops through your objects to accomplish this."
   ]
  },
  {
   "cell_type": "code",
   "execution_count": null,
   "metadata": {},
   "outputs": [],
   "source": [
    "# Run your function sending a request to the url/token using the API method getImages and write each image to the specified file path .../your_directory/collection_images"
   ]
  },
  {
   "cell_type": "code",
   "execution_count": null,
   "metadata": {},
   "outputs": [],
   "source": []
  },
  {
   "cell_type": "code",
   "execution_count": null,
   "metadata": {},
   "outputs": [],
   "source": []
  },
  {
   "cell_type": "code",
   "execution_count": null,
   "metadata": {},
   "outputs": [],
   "source": []
  },
  {
   "cell_type": "markdown",
   "metadata": {},
   "source": [
    "## Ex: 2.3 - getColors: Now let's build a function that uses the object.getColors method api call to retrieve and store the 'colors' in a .csv file\n",
    "\n",
    "1. You will want to do something similar to the previous two exercises, except this time you will be writing the data retreived to a csv.\n",
    "2. Done worry about parsing out the 'colors' field or converting the hex values. Just grab the data and drop it into a .csv.\n",
    "3. Limit the data to 100 rows as in the previous two exercises"
   ]
  },
  {
   "cell_type": "code",
   "execution_count": null,
   "metadata": {},
   "outputs": [],
   "source": [
    "# Heres' something to get you started. We're going to give you less information this time around since if you've made it this far you're doing well.\n",
    "\n",
    "payload = {'access_token': token,\n",
    "           'method': 'cooperhewitt.objects.getColors',\n",
    "           'object_id': i}\n",
    "\n",
    "r = requests.get(api, params=payload)\n",
    "\n",
    "obj_col = pd.DataFrame.from_records(r.json())"
   ]
  },
  {
   "cell_type": "code",
   "execution_count": null,
   "metadata": {},
   "outputs": [],
   "source": [
    "# Start by breaking down the problem."
   ]
  },
  {
   "cell_type": "code",
   "execution_count": null,
   "metadata": {},
   "outputs": [],
   "source": [
    "# When you understand how your data is structured and what you would like to achieve, you would probably smart to build a function that loops through your objects to accomplish this."
   ]
  },
  {
   "cell_type": "code",
   "execution_count": null,
   "metadata": {},
   "outputs": [],
   "source": [
    "# Run your function sending a request to the url/token using the API method getImages and write each image to the specified file path .../your_directory/current_collection_colors"
   ]
  },
  {
   "cell_type": "code",
   "execution_count": null,
   "metadata": {},
   "outputs": [],
   "source": []
  },
  {
   "cell_type": "code",
   "execution_count": null,
   "metadata": {},
   "outputs": [],
   "source": []
  },
  {
   "cell_type": "code",
   "execution_count": null,
   "metadata": {},
   "outputs": [],
   "source": []
  },
  {
   "cell_type": "markdown",
   "metadata": {},
   "source": [
    "## Example 3: Intro to Web Scraping <a id=2></a>\n",
    "\n",
    "*5 - 10 Minutes*\n",
    "\n",
    "Often times data is not available in the neat & tidy formats we are used from databases and APIs. We need to go out into the world and capture the data.\n",
    "\n",
    "Enter web scraping which is the process of crawling a website(s) and extracting structured information from the pages of the site(s).\n",
    "\n",
    "There are a whole host of ethical concerns with web scraping. Make sure to read a site's `robots.txt` before initating a web scraping project: ex. https://www.buzzfeed.com/robots.txt\n",
    "\n",
    " - [Beautiful Soup: Python bs4 lib](https://www.crummy.com/software/BeautifulSoup/bs4/doc/)\n",
    "\n",
    " - [Regexp: Python re lib](https://docs.python.org/3/library/re.html)\n",
    "\n",
    " - [HTML Tags](https://www.w3schools.com/tags/tag_p.asp)\n",
    "\n",
    " - [What is a robot.txt file and how to find it](https://moz.com/learn/seo/robotstxt)"
   ]
  },
  {
   "cell_type": "code",
   "execution_count": null,
   "metadata": {},
   "outputs": [],
   "source": [
    "from bs4 import BeautifulSoup # a python HTML parser\n",
    "import re #Regular expressions\n",
    "import requests\n",
    "import pandas as pd"
   ]
  },
  {
   "cell_type": "markdown",
   "metadata": {},
   "source": [
    "### Weather Data <a id=2A></a>\n",
    "\n",
    "Let's focus on grabbing general weather data & forecasts"
   ]
  },
  {
   "cell_type": "code",
   "execution_count": null,
   "metadata": {},
   "outputs": [],
   "source": [
    "url = \"http://forecast.weather.gov/MapClick.php?lat=38.8904&lon=-77.032#.WpNL-ejwaUk\"\n",
    "r = requests.get(url)\n",
    "r.status_code"
   ]
  },
  {
   "cell_type": "code",
   "execution_count": null,
   "metadata": {
    "scrolled": true
   },
   "outputs": [],
   "source": [
    "r.content"
   ]
  },
  {
   "cell_type": "code",
   "execution_count": null,
   "metadata": {},
   "outputs": [],
   "source": [
    "#Let's make some soup\n",
    "soup = BeautifulSoup(r.content, 'html.parser')"
   ]
  },
  {
   "cell_type": "code",
   "execution_count": null,
   "metadata": {
    "scrolled": true
   },
   "outputs": [],
   "source": [
    "soup"
   ]
  },
  {
   "cell_type": "code",
   "execution_count": null,
   "metadata": {},
   "outputs": [],
   "source": [
    "seven_day = soup.find(id=\"seven-day-forecast\")"
   ]
  },
  {
   "cell_type": "code",
   "execution_count": null,
   "metadata": {},
   "outputs": [],
   "source": [
    "seven_day"
   ]
  },
  {
   "cell_type": "code",
   "execution_count": null,
   "metadata": {},
   "outputs": [],
   "source": [
    "forecast_items = seven_day.find_all(class_=\"tombstone-container\")\n",
    "forecast_items"
   ]
  },
  {
   "cell_type": "code",
   "execution_count": null,
   "metadata": {},
   "outputs": [],
   "source": [
    "tonight = forecast_items[0]\n",
    "print(tonight)"
   ]
  },
  {
   "cell_type": "code",
   "execution_count": null,
   "metadata": {},
   "outputs": [],
   "source": [
    "print(tonight.prettify())"
   ]
  },
  {
   "cell_type": "markdown",
   "metadata": {},
   "source": [
    "##### Extracting information from the page\n",
    "\n",
    "As you can see, inside the forecast item tonight is all the information we want. There are 4 pieces of information we can extract:\n",
    "\n",
    "* The name of the forecast item — in this case, Tonight.\n",
    "* The description of the conditions — this is stored in the title property of img.\n",
    "* A short description of the conditions.\n",
    "* The temperature low.\n",
    "\n",
    "We'll extract the name of the forecast item, the short description, and the temperature first, since they're all similar:"
   ]
  },
  {
   "cell_type": "code",
   "execution_count": null,
   "metadata": {},
   "outputs": [],
   "source": [
    "period = tonight.find(class_=\"period-name\").get_text()\n",
    "short_desc = tonight.find(class_=\"short-desc\").get_text()\n",
    "temp = tonight.find(class_=\"temp\").get_text()\n",
    "\n",
    "print(period)\n",
    "print(short_desc)\n",
    "print(temp)"
   ]
  },
  {
   "cell_type": "code",
   "execution_count": null,
   "metadata": {},
   "outputs": [],
   "source": [
    "img = tonight.find(\"img\")\n",
    "img"
   ]
  },
  {
   "cell_type": "markdown",
   "metadata": {},
   "source": [
    "Now, we can extract the `title` attribute from the `img` tag. To do this, we just treat the BeautifulSoup object like a dictionary, and pass in the attribute we want as a key:"
   ]
  },
  {
   "cell_type": "code",
   "execution_count": null,
   "metadata": {},
   "outputs": [],
   "source": [
    "img = tonight.find(\"img\")\n",
    "desc = img['title']\n",
    "\n",
    "print(desc)"
   ]
  },
  {
   "cell_type": "markdown",
   "metadata": {},
   "source": [
    "##### Extracting all the information from the page\n",
    "Now that we know how to extract each individual piece of information, we can combine our knowledge with css selectors and list comprehensions to extract everything at once.\n",
    "\n",
    "In the below code, we:\n",
    "\n",
    "* Select all items with the class `period-name` inside an item with the class `tombstone-container` in `seven_day`.\n",
    "* Use a list comprehension to call the `get_text` method on each `BeautifulSoup` object."
   ]
  },
  {
   "cell_type": "code",
   "execution_count": null,
   "metadata": {},
   "outputs": [],
   "source": [
    "# As a reminder here is what we are working with\n",
    "print(tonight.prettify())"
   ]
  },
  {
   "cell_type": "code",
   "execution_count": null,
   "metadata": {},
   "outputs": [],
   "source": [
    "period_tags = seven_day.select(\".tombstone-container .period-name\")\n",
    "periods = [pt.get_text() for pt in period_tags]\n",
    "periods"
   ]
  },
  {
   "cell_type": "code",
   "execution_count": null,
   "metadata": {},
   "outputs": [],
   "source": [
    "#breaking it down\n",
    "period_tags = seven_day.select(\".tombstone-container .period-name\")\n",
    "period_tags"
   ]
  },
  {
   "cell_type": "code",
   "execution_count": null,
   "metadata": {},
   "outputs": [],
   "source": [
    "periods = [pt.get_text() for pt in period_tags]\n",
    "periods"
   ]
  },
  {
   "cell_type": "code",
   "execution_count": null,
   "metadata": {},
   "outputs": [],
   "source": [
    "short_descs = [sd.get_text() for sd in seven_day.select(\".tombstone-container .short-desc\")]\n",
    "temps = [t.get_text() for t in seven_day.select(\".tombstone-container .temp\")]\n",
    "descs = [d[\"title\"] for d in seven_day.select(\".tombstone-container img\")]\n",
    "\n",
    "print(short_descs)\n",
    "print(temps)\n",
    "print(descs)"
   ]
  },
  {
   "cell_type": "code",
   "execution_count": null,
   "metadata": {},
   "outputs": [],
   "source": [
    "short_desc = [sd.get_text() for sd in seven_day.select(\".tombstone-container .short-desc\")]\n",
    "print(short_desc)"
   ]
  },
  {
   "cell_type": "code",
   "execution_count": null,
   "metadata": {},
   "outputs": [],
   "source": [
    "temps = [t.get_text() for t in seven_day.select(\".tombstone-container .temp\")]\n",
    "print(temps)"
   ]
  },
  {
   "cell_type": "code",
   "execution_count": null,
   "metadata": {},
   "outputs": [],
   "source": [
    "desc = [d[\"title\"] for d in seven_day.select(\".tombstone-container img\")]\n",
    "print(desc)"
   ]
  },
  {
   "cell_type": "markdown",
   "metadata": {},
   "source": [
    "## Example 4: Weather Analysis\n",
    "\n",
    "#### **(Skip to UFO's Exercise if time is short)**\n",
    "\n",
    "Combine all the newly scraped data and analyze it. In order to do this, we'll call the DataFrame class, and pass in each list of items that we have. We pass them in as part of a dictionary. Each dictionary key will become a column in the DataFrame, and each list will become the values in the column."
   ]
  },
  {
   "cell_type": "code",
   "execution_count": null,
   "metadata": {},
   "outputs": [],
   "source": [
    "import pandas as pd"
   ]
  },
  {
   "cell_type": "code",
   "execution_count": null,
   "metadata": {},
   "outputs": [],
   "source": [
    "frame_desc = pd.DataFrame(data=desc,columns=['desc'])\n",
    "frame_desc"
   ]
  },
  {
   "cell_type": "code",
   "execution_count": null,
   "metadata": {},
   "outputs": [],
   "source": [
    "frame_periods = pd.DataFrame(data=periods,columns=['periods'])\n",
    "frame_periods"
   ]
  },
  {
   "cell_type": "code",
   "execution_count": null,
   "metadata": {},
   "outputs": [],
   "source": [
    "frame_short_descs = pd.DataFrame(data=short_desc,columns=['short_desc'])\n",
    "frame_short_descs"
   ]
  },
  {
   "cell_type": "code",
   "execution_count": null,
   "metadata": {},
   "outputs": [],
   "source": [
    "frame_temps = pd.DataFrame(data=temps,columns=['temps'],)\n",
    "frame_temps"
   ]
  },
  {
   "cell_type": "code",
   "execution_count": null,
   "metadata": {},
   "outputs": [],
   "source": [
    "weather = pd.concat([frame_desc, frame_periods, frame_short_descs, frame_temps], axis=1)\n",
    "weather"
   ]
  },
  {
   "cell_type": "code",
   "execution_count": null,
   "metadata": {},
   "outputs": [],
   "source": [
    "weather.head()"
   ]
  },
  {
   "cell_type": "markdown",
   "metadata": {},
   "source": [
    "### Analyzing Weather\n",
    "\n",
    "Here you will need to have some kind of understanding of regexp pattern syntax. As always if you don't our friend google is here to assist\n",
    "\n",
    "[REGEX CHEAT SHEET](https://www.dataquest.io/blog/regex-cheatsheet/): Refresher\n",
    "\n",
    "[PYTHON REGEX DOCS](https://docs.python.org/3/library/re.html): PyDocs"
   ]
  },
  {
   "cell_type": "code",
   "execution_count": null,
   "metadata": {},
   "outputs": [],
   "source": [
    "#First we will extract the number from the temps columns so we can run some basic functions\n",
    "\n",
    "temp_nums = weather[\"temps\"].str.extract(\"(?P<temp_num>\\d+)\", expand=False)\n",
    "temp_nums"
   ]
  },
  {
   "cell_type": "code",
   "execution_count": null,
   "metadata": {},
   "outputs": [],
   "source": [
    "# Next we will simply add in the temp_num column to our dataframe ensuring to cast is as dtype int so we can run some calcs\n",
    "\n",
    "weather[\"temp_num\"] = temp_nums.astype('int')\n",
    "weather"
   ]
  },
  {
   "cell_type": "markdown",
   "metadata": {},
   "source": [
    "#### Mean Temperatures"
   ]
  },
  {
   "cell_type": "code",
   "execution_count": null,
   "metadata": {},
   "outputs": [],
   "source": [
    "weather[\"temp_num\"].mean()"
   ]
  },
  {
   "cell_type": "markdown",
   "metadata": {},
   "source": [
    "#### Night Time Temperatures"
   ]
  },
  {
   "cell_type": "code",
   "execution_count": null,
   "metadata": {},
   "outputs": [],
   "source": [
    "is_night = weather[\"temps\"].str.contains(\"Low\")\n",
    "weather[\"is_night\"] = is_night\n",
    "is_night\n",
    "weather[is_night]"
   ]
  },
  {
   "cell_type": "markdown",
   "metadata": {},
   "source": [
    "## EXERCISE 5: UFO Sigtings\n",
    "\n",
    "### *with the remaining time, please attempt attempt the exercise below*\n",
    "\n",
    "1. Use beautiful soup to inspect the html file associated with the http://www.nuforc.org/webreports/ndxe201608.html data.\n",
    "2. Use the findAll() and findChildren methods() to loop through the html data and load it into a DataFrame.\n",
    "\n",
    "*HINT you may want to consider using an embedded for loop using the two find methods above; If you can find another more elegant way to do it please share withe the group*"
   ]
  },
  {
   "cell_type": "code",
   "execution_count": null,
   "metadata": {},
   "outputs": [],
   "source": [
    "from bs4 import BeautifulSoup # a python HTML parser\n",
    "import re #Regular expressions\n",
    "import requests\n",
    "import pandas as pd"
   ]
  },
  {
   "cell_type": "code",
   "execution_count": null,
   "metadata": {},
   "outputs": [],
   "source": [
    "r = requests.get(\"http://www.nuforc.org/webreports/ndxe201608.html\")\n",
    "b = BeautifulSoup(r.text, 'html.parser')\n",
    "r.status_code"
   ]
  },
  {
   "cell_type": "code",
   "execution_count": null,
   "metadata": {},
   "outputs": [],
   "source": [
    "# r.content #go ahead and uncomment this line by hitting ctrl+/"
   ]
  },
  {
   "cell_type": "code",
   "execution_count": null,
   "metadata": {},
   "outputs": [],
   "source": [
    "# b #go ahead and uncomment this as well and compare the different... then bask in the glory of BeautifulSoup"
   ]
  },
  {
   "cell_type": "code",
   "execution_count": null,
   "metadata": {},
   "outputs": [],
   "source": [
    "# What data do we have? Let's look at the head of the HTML file to determine what's contained within.\n",
    "d = b.findAll('thead')\n",
    "print(d)"
   ]
  },
  {
   "cell_type": "code",
   "execution_count": null,
   "metadata": {},
   "outputs": [],
   "source": [
    "# Let's take a look at the first sighting\n",
    "for tr in b.findAll('tr', attrs = {'valign':'TOP'})[:1]: # remove the '1' in the slice to view all data\n",
    "    # the findChildren method returns all children underneath it\n",
    "    for child in tr.findChildren():\n",
    "        print(child.text)"
   ]
  },
  {
   "cell_type": "code",
   "execution_count": null,
   "metadata": {},
   "outputs": [],
   "source": [
    "# OK, it's a bit messy, Let's clean it up. Go ahead and use the code below completing the loops below to load the data into a DataFrame.\n",
    "# Looks like the first element is the date, the 4th is the city, 6th if state, 8th is shape etc...\n",
    "\n",
    "\n",
    "ufo_sightings = {\n",
    "        'Date':[],\n",
    "        'City':[],\n",
    "        'State':[],\n",
    "        'Shape':[],\n",
    "        'Duration':[],\n",
    "        'Summary':[]\n",
    "    }\n",
    "\n",
    "for tr in b.findAll('tr', attrs = {'valign':'TOP'}):\n",
    "        #your code goes here\n",
    "    for child in tr.findChildren():\n",
    "        #your code goes here\n",
    "        \n",
    "    pd.DataFrame(ufo_sightings).head()"
   ]
  }
 ],
 "metadata": {
  "kernel_info": {
   "name": "python3"
  },
  "kernelspec": {
   "display_name": "Python 3",
   "language": "python",
   "name": "python3"
  },
  "language_info": {
   "codemirror_mode": {
    "name": "ipython",
    "version": 3
   },
   "file_extension": ".py",
   "mimetype": "text/x-python",
   "name": "python",
   "nbconvert_exporter": "python",
   "pygments_lexer": "ipython3",
   "version": "3.8.5"
  },
  "nteract": {
   "version": "0.11.6"
  }
 },
 "nbformat": 4,
 "nbformat_minor": 2
}
