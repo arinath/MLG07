{
 "cells": [
  {
   "cell_type": "markdown",
   "metadata": {},
   "source": [
    "# Data Visualization Starter Notebook\n",
    "\n",
    "Visualization packages in python can be opaque and sometimes are more difficult to work with than the model development component. This notebook contains many common plot types with example code for both matplotlib and seaborn. Googling is generally your best bet to find code for more complicated graphs, but the below resources are both excellent more complete tutorials on the packages.\n",
    "\n",
    "https://matplotlib.org/tutorials/introductory/sample_plots.html\n",
    "\n",
    "https://seaborn.pydata.org/tutorial.html"
   ]
  },
  {
   "cell_type": "code",
   "execution_count": 1,
   "metadata": {},
   "outputs": [
    {
     "name": "stdout",
     "output_type": "stream",
     "text": [
      "First 6 rows:\n",
      "   carat        cut     x     y     z\n",
      "0   0.23      Ideal  3.95  3.98  2.43\n",
      "1   0.21    Premium  3.89  3.84  2.31\n",
      "2   0.23       Good  4.05  4.07  2.31\n",
      "3   0.29    Premium  4.20  4.23  2.63\n",
      "4   0.31       Good  4.34  4.35  2.75\n",
      "5   0.24  Very Good  3.94  3.96  2.48\n"
     ]
    }
   ],
   "source": [
    "import pandas as pd\n",
    "user_cols = ['carat', 'cut', 'x', 'y', 'z']\n",
    "diamonds = pd.read_csv('https://raw.githubusercontent.com/mwaskom/seaborn-data/master/diamonds.csv')\n",
    "print(\"First 6 rows:\")\n",
    "print(diamonds[user_cols].head(6))"
   ]
  },
  {
   "cell_type": "code",
   "execution_count": 2,
   "metadata": {},
   "outputs": [],
   "source": [
    "import pandas as pd\n",
    "from matplotlib import pyplot as plt\n",
    "import seaborn as sns\n",
    "import numpy as np\n",
    "import matplotlib as mpl"
   ]
  },
  {
   "cell_type": "code",
   "execution_count": null,
   "metadata": {},
   "outputs": [],
   "source": [
    "sns.violinplot(x=\"color\",\n",
    "y=\"price\", \n",
    "hue=\"color\",\n",
    "data=diamonds)"
   ]
  },
  {
   "cell_type": "code",
   "execution_count": null,
   "metadata": {},
   "outputs": [],
   "source": [
    "df_red = pd.read_csv('../data/winequality-red.csv', delimiter=';')\n",
    "df_white = pd.read_csv('../data/winequality-white.csv', delimiter=';')"
   ]
  },
  {
   "cell_type": "code",
   "execution_count": null,
   "metadata": {},
   "outputs": [],
   "source": [
    "df_red['type'] = 'red'\n",
    "\n",
    "print(str(df_red.shape[0]) + ' red wines.')\n",
    "\n",
    "df_white['type'] = 'white'\n",
    "\n",
    "print(str(df_white.shape[0]) + ' white wines.')\n",
    "\n",
    "df = pd.concat([df_red,df_white])\n",
    "df['red_bool'] = (df.type == 'red')*1\n",
    "\n",
    "df.head()"
   ]
  },
  {
   "cell_type": "markdown",
   "metadata": {},
   "source": [
    "## Bar Charts"
   ]
  },
  {
   "cell_type": "markdown",
   "metadata": {},
   "source": [
    "### Standard"
   ]
  },
  {
   "cell_type": "markdown",
   "metadata": {},
   "source": [
    "#### Matplotlib"
   ]
  },
  {
   "cell_type": "code",
   "execution_count": null,
   "metadata": {},
   "outputs": [],
   "source": [
    "df_vc = df.type.value_counts()\n",
    "x_list = list(range(len(df_vc)))\n",
    "\n",
    "plt.bar(x_list, # Number of values on x axis\n",
    "        df_vc, # Series of values\n",
    "        align ='center',\n",
    "       width = 2/3)\n",
    "\n",
    "plt.xticks(x_list,df_vc.index)\n",
    "\n",
    "plt.ylabel('Count')\n",
    "plt.title('Count of wines by color')\n",
    "\n",
    "plt.show()"
   ]
  },
  {
   "cell_type": "code",
   "execution_count": null,
   "metadata": {},
   "outputs": [],
   "source": [
    "plt.barh(x_list, # Number of values on x axis\n",
    "        df_vc, # Series of values\n",
    "        align ='center',\n",
    "        height = 2/3)\n",
    "\n",
    "plt.yticks(x_list,df_vc.index)\n",
    "\n",
    "plt.xlabel('Count')\n",
    "plt.title('Count of wines by color')\n",
    "\n",
    "plt.show()"
   ]
  },
  {
   "cell_type": "markdown",
   "metadata": {},
   "source": [
    "#### Subplots\n",
    "\n",
    "We often want to see two graphs side by side to get a more clear understanding of the data.\n",
    "\n",
    "Further reading:\n",
    "https://matplotlib.org/devdocs/gallery/subplots_axes_and_figures/subplots_demo.html"
   ]
  },
  {
   "cell_type": "code",
   "execution_count": null,
   "metadata": {},
   "outputs": [],
   "source": [
    "fig, (ax1, ax2) = plt.subplots(2)\n",
    "\n",
    "ax1.bar(x_list, # Number of values on x axis\n",
    "        df_vc, # Series of values\n",
    "        align ='center',\n",
    "        width = 2/3)\n",
    "\n",
    "plt.sca(ax1)  # Selects first chart in subplots\n",
    "plt.xticks(x_list,df_vc.index)\n",
    "plt.ylabel('Count')\n",
    "plt.title('Count of wines by color')\n",
    "\n",
    "plt.sca(ax2)  # Selects first chart in subplots\n",
    "plt.barh(x_list, # Number of values on x axis\n",
    "        df_vc, # Series of values\n",
    "        align ='center',\n",
    "        height = 2/3)\n",
    "\n",
    "plt.yticks(x_list,df_vc.index)\n",
    "\n",
    "plt.show()"
   ]
  },
  {
   "cell_type": "markdown",
   "metadata": {},
   "source": [
    "#### Seaborn"
   ]
  },
  {
   "cell_type": "code",
   "execution_count": null,
   "metadata": {},
   "outputs": [],
   "source": [
    "bp = sns.barplot(x = df_vc.index, y = df_vc.values)\n",
    "bp.set(ylabel= 'Count',xlabel='Type of Wine')\n",
    "bp.set_title('Wine by color')\n",
    "plt.show()"
   ]
  },
  {
   "cell_type": "code",
   "execution_count": null,
   "metadata": {},
   "outputs": [],
   "source": [
    "bp = sns.barplot(y = df_vc.index, x = df_vc.values)\n",
    "bp.set(xlabel= 'Count',ylabel='Type of Wine')\n",
    "bp.set_title('Wine by color')\n",
    "plt.show()"
   ]
  },
  {
   "cell_type": "markdown",
   "metadata": {},
   "source": [
    "### Stacked Bar"
   ]
  },
  {
   "cell_type": "markdown",
   "metadata": {},
   "source": [
    "####  Matplotlib\n",
    "\n",
    "Matplotlib doesn't have a clean way to produce stacked bar charts, but the belows is functional"
   ]
  },
  {
   "cell_type": "code",
   "execution_count": null,
   "metadata": {},
   "outputs": [],
   "source": [
    "wine_gb = df.groupby(['type','quality'])['quality'].count().unstack('type').fillna(0)\n",
    "wine_gb"
   ]
  },
  {
   "cell_type": "code",
   "execution_count": null,
   "metadata": {},
   "outputs": [],
   "source": [
    "wid = 2/3\n",
    "\n",
    "fig, ax = plt.subplots()\n",
    "p1 = plt.bar([0,1], wine_gb.iloc[0], color = '0', width = wid)\n",
    "p2 = plt.bar([0,1], wine_gb.iloc[1], bottom = wine_gb.cumsum().iloc[0], color = '.1', width = wid)\n",
    "p3 = plt.bar([0,1], wine_gb.iloc[2], bottom = wine_gb.cumsum().iloc[1], color = '.2', width = wid)\n",
    "p4 = plt.bar([0,1], wine_gb.iloc[3], bottom = wine_gb.cumsum().iloc[2], color = '.3', width = wid)\n",
    "p5 = plt.bar([0,1], wine_gb.iloc[4], bottom = wine_gb.cumsum().iloc[3], color = '.4', width = wid)\n",
    "p6 = plt.bar([0,1], wine_gb.iloc[5], bottom = wine_gb.cumsum().iloc[4], color = '.5', width = wid)\n",
    "p7 = plt.bar([0,1], wine_gb.iloc[6], bottom = wine_gb.cumsum().iloc[5], color = '.6', width = wid)\n",
    "\n",
    "plt.xticks([0,1],['Red','White'])\n",
    "\n",
    "plt.legend( (p1[0],p2[0],p3[0],p4[0],p5[0],p6[0],p7[0]), (wine_gb.index))\n",
    "\n",
    "plt.show()"
   ]
  },
  {
   "cell_type": "code",
   "execution_count": null,
   "metadata": {},
   "outputs": [],
   "source": [
    "## Rescale columns\n",
    "\n",
    "wine_gb_100 = wine_gb\n",
    "\n",
    "for column in wine_gb_100.columns:\n",
    "    wine_gb_100[column] = wine_gb_100[column]/(wine_gb_100[column].sum())"
   ]
  },
  {
   "cell_type": "code",
   "execution_count": null,
   "metadata": {},
   "outputs": [],
   "source": [
    "fig, ax = plt.subplots()\n",
    "p1 = plt.bar([0,1], wine_gb_100.iloc[0], color = '0')\n",
    "p2 = plt.bar([0,1], wine_gb_100.iloc[1], bottom = wine_gb_100.cumsum().iloc[0], color = '.1', width = wid)\n",
    "p3 = plt.bar([0,1], wine_gb_100.iloc[2], bottom = wine_gb_100.cumsum().iloc[1], color = '.2', width = wid)\n",
    "p4 = plt.bar([0,1], wine_gb_100.iloc[3], bottom = wine_gb_100.cumsum().iloc[2], color = '.3', width = wid)\n",
    "p5 = plt.bar([0,1], wine_gb_100.iloc[4], bottom = wine_gb_100.cumsum().iloc[3], color = '.4', width = wid)\n",
    "p6 = plt.bar([0,1], wine_gb_100.iloc[5], bottom = wine_gb_100.cumsum().iloc[4], color = '.5', width = wid)\n",
    "p7 = plt.bar([0,1], wine_gb_100.iloc[6], bottom = wine_gb_100.cumsum().iloc[5], color = '.6', width = wid)\n",
    "\n",
    "plt.xticks([0,1],['Red','White'])\n",
    "\n",
    "plt.legend( (p1[0],p2[0],p3[0],p4[0],p5[0],p6[0],p7[0]), (wine_gb.index))\n",
    "\n",
    "plt.show()"
   ]
  },
  {
   "cell_type": "markdown",
   "metadata": {},
   "source": [
    "### Seaborn"
   ]
  },
  {
   "cell_type": "markdown",
   "metadata": {},
   "source": [
    "## Scatter Chart"
   ]
  },
  {
   "cell_type": "code",
   "execution_count": null,
   "metadata": {},
   "outputs": [],
   "source": [
    "plt.scatter(df['volatile acidity'], df['chlorides'])"
   ]
  },
  {
   "cell_type": "code",
   "execution_count": null,
   "metadata": {},
   "outputs": [],
   "source": [
    "colors = np.where(df[\"type\"]=='red','maroon','gold')\n",
    "plt.scatter(x = df['volatile acidity'], y = df['chlorides'], c = colors)"
   ]
  },
  {
   "cell_type": "code",
   "execution_count": null,
   "metadata": {},
   "outputs": [],
   "source": [
    "plt.scatter(x = df['volatile acidity'], y = df['chlorides'], c = colors, s=df['free sulfur dioxide'])"
   ]
  },
  {
   "cell_type": "markdown",
   "metadata": {},
   "source": [
    "#### Seaborn"
   ]
  },
  {
   "cell_type": "code",
   "execution_count": null,
   "metadata": {},
   "outputs": [],
   "source": [
    "sns.scatterplot(x = df['volatile acidity'], y = df['chlorides'])"
   ]
  },
  {
   "cell_type": "code",
   "execution_count": null,
   "metadata": {},
   "outputs": [],
   "source": [
    "sns.scatterplot(x = df['volatile acidity'], y = df['chlorides'], hue = df[\"type\"])"
   ]
  },
  {
   "cell_type": "code",
   "execution_count": null,
   "metadata": {},
   "outputs": [],
   "source": [
    "sns.pairplot(df, hue = 'type')"
   ]
  },
  {
   "cell_type": "markdown",
   "metadata": {},
   "source": [
    "## Histograms"
   ]
  },
  {
   "cell_type": "markdown",
   "metadata": {},
   "source": [
    "#### Matplotlib"
   ]
  },
  {
   "cell_type": "code",
   "execution_count": null,
   "metadata": {},
   "outputs": [],
   "source": [
    "plt.hist(df['pH'])\n",
    "plt.show()"
   ]
  },
  {
   "cell_type": "code",
   "execution_count": null,
   "metadata": {},
   "outputs": [],
   "source": [
    "plt.hist(df['pH'], bins= 15)\n",
    "plt.show()"
   ]
  },
  {
   "cell_type": "markdown",
   "metadata": {},
   "source": [
    "#### Seaborn"
   ]
  },
  {
   "cell_type": "code",
   "execution_count": null,
   "metadata": {},
   "outputs": [],
   "source": [
    "sns.distplot(df['pH'], kde = False)"
   ]
  },
  {
   "cell_type": "code",
   "execution_count": null,
   "metadata": {},
   "outputs": [],
   "source": [
    "sns.distplot(df['pH'], kde = False, bins= 15)"
   ]
  },
  {
   "cell_type": "markdown",
   "metadata": {},
   "source": [
    "## Line Charts"
   ]
  },
  {
   "cell_type": "code",
   "execution_count": null,
   "metadata": {},
   "outputs": [],
   "source": [
    "import numpy as np\n",
    "\n",
    "def fake_date(days, base_date=np.datetime64('2014-01-01')):\n",
    "    random_date = base_date + np.random.choice(np.arange(0,days))\n",
    "    return random_date\n",
    "\n",
    "df['date'] = df.apply(lambda x: fake_date(days = 365), axis = 1)"
   ]
  },
  {
   "cell_type": "code",
   "execution_count": null,
   "metadata": {},
   "outputs": [],
   "source": [
    "df_daily = df.groupby(['date','type'])['quality'].agg(['mean']).unstack()\n",
    "df_daily.columns = df_daily.columns.droplevel()"
   ]
  },
  {
   "cell_type": "markdown",
   "metadata": {},
   "source": [
    "#### Matplotlib"
   ]
  },
  {
   "cell_type": "code",
   "execution_count": null,
   "metadata": {},
   "outputs": [],
   "source": [
    "plt.plot(df_daily.index, df_daily.red, c = 'maroon')\n",
    "plt.plot(df_daily.index, df_daily.white, c = 'gold')\n",
    "plt.show()"
   ]
  },
  {
   "cell_type": "code",
   "execution_count": null,
   "metadata": {},
   "outputs": [],
   "source": [
    "df['month'] = df.date.dt.month\n",
    "df_monthly = df.groupby(['month','type'])['quality'].agg(['mean']).unstack()\n",
    "df_monthly.columns = df_monthly.columns.droplevel()"
   ]
  },
  {
   "cell_type": "code",
   "execution_count": null,
   "metadata": {},
   "outputs": [],
   "source": [
    "plt.plot(df_monthly.index, df_monthly.red, c = 'maroon')\n",
    "plt.plot(df_monthly.index, df_monthly.white, c = 'gold')\n",
    "plt.xlabel('Month')\n",
    "plt.show()"
   ]
  },
  {
   "cell_type": "markdown",
   "metadata": {},
   "source": [
    "#### Seaborn"
   ]
  },
  {
   "cell_type": "code",
   "execution_count": null,
   "metadata": {},
   "outputs": [],
   "source": [
    "df_monthly_stacked = df.groupby(['month','type'])['quality'].agg(['mean']).reset_index()"
   ]
  },
  {
   "cell_type": "code",
   "execution_count": null,
   "metadata": {},
   "outputs": [],
   "source": [
    "ax = sns.lineplot(x = 'month', y ='mean', hue = 'type', data = df_monthly_stacked)"
   ]
  },
  {
   "cell_type": "markdown",
   "metadata": {},
   "source": [
    "## Area Charts"
   ]
  },
  {
   "cell_type": "code",
   "execution_count": null,
   "metadata": {},
   "outputs": [],
   "source": [
    "df['month'] = df.date.dt.month\n",
    "df_monthly_count = df.groupby(['month','type'])['quality'].agg(['count']).unstack()\n",
    "df_monthly_count.columns = df_monthly_count.columns.droplevel()\n",
    "df_monthly_count.head()"
   ]
  },
  {
   "cell_type": "code",
   "execution_count": null,
   "metadata": {},
   "outputs": [],
   "source": [
    "plt.fill_between(np.arange(12),df_monthly_count.red, color = 'maroon', alpha = 0.5)\n",
    "plt.fill_between(np.arange(12),df_monthly_count.white, color = 'gold', alpha = 0.5)"
   ]
  },
  {
   "cell_type": "code",
   "execution_count": null,
   "metadata": {},
   "outputs": [],
   "source": [
    "df_monthly_norm = df_monthly_count.divide(df_monthly_count.sum(axis =1), axis = 0 )\n",
    "\n",
    "plt.stackplot(df_monthly_norm.index,\n",
    "              [df_monthly_norm['white'], df_monthly_norm['red']],\n",
    "              labels=['white', 'red'],\n",
    "              colors = ['gold','maroon'],\n",
    "              alpha=0.8)\n"
   ]
  },
  {
   "cell_type": "markdown",
   "metadata": {},
   "source": [
    "## Heat Maps"
   ]
  },
  {
   "cell_type": "markdown",
   "metadata": {},
   "source": [
    "#### Matplotlib\n",
    "\n",
    "2D histograms are a special type of heat map that are helpful when our data is too dense to understand"
   ]
  },
  {
   "cell_type": "code",
   "execution_count": null,
   "metadata": {},
   "outputs": [],
   "source": [
    "fig, (whites, reds) = plt.subplots(2)\n",
    "\n",
    "whites.hist2d(df_white['volatile acidity'], df_white['pH'], bins = 50)\n",
    "reds.hist2d(df_red['volatile acidity'], df_red['pH'], bins = 50)\n",
    "\n",
    "plt.show()"
   ]
  },
  {
   "cell_type": "markdown",
   "metadata": {},
   "source": [
    "#### Seaborn"
   ]
  },
  {
   "cell_type": "code",
   "execution_count": null,
   "metadata": {},
   "outputs": [],
   "source": [
    "g = sns.jointplot('volatile acidity', 'pH', data=df, kind=\"hex\")"
   ]
  },
  {
   "cell_type": "code",
   "execution_count": null,
   "metadata": {},
   "outputs": [],
   "source": [
    "g = sns.jointplot('volatile acidity', 'pH', data=df, kind=\"reg\")"
   ]
  },
  {
   "cell_type": "markdown",
   "metadata": {},
   "source": [
    "## Styles/Color Palettes"
   ]
  },
  {
   "cell_type": "code",
   "execution_count": null,
   "metadata": {},
   "outputs": [],
   "source": [
    "plt.style.available"
   ]
  },
  {
   "cell_type": "code",
   "execution_count": null,
   "metadata": {},
   "outputs": [],
   "source": [
    "mpl.style.use('ggplot')\n",
    "plt.scatter(df['volatile acidity'], df['chlorides'])\n",
    "plt.show()"
   ]
  },
  {
   "cell_type": "code",
   "execution_count": null,
   "metadata": {},
   "outputs": [],
   "source": [
    "mpl.style.use('fivethirtyeight')\n",
    "plt.scatter(df['volatile acidity'], df['chlorides'])\n",
    "plt.show()"
   ]
  },
  {
   "cell_type": "markdown",
   "metadata": {},
   "source": [
    "#### Seaborn"
   ]
  },
  {
   "cell_type": "code",
   "execution_count": null,
   "metadata": {},
   "outputs": [],
   "source": [
    "sns.set_style('darkgrid')\n",
    "sns.scatterplot(x = df['volatile acidity'], y = df['chlorides'])"
   ]
  },
  {
   "cell_type": "code",
   "execution_count": null,
   "metadata": {},
   "outputs": [],
   "source": [
    "sns.set_style('ticks')\n",
    "sns.scatterplot(x = df['volatile acidity'], y = df['chlorides'])"
   ]
  },
  {
   "cell_type": "code",
   "execution_count": null,
   "metadata": {},
   "outputs": [],
   "source": [
    "custom_palette = [\"#9b59b6\", \"#3498db\", \"#95a5a6\", \"#e74c3c\", \"#34495e\", \"#2ecc71\"]\n",
    "sns.palplot(sns.color_palette(custom_palette))"
   ]
  }
 ],
 "metadata": {
  "kernelspec": {
   "display_name": "Python 3",
   "language": "python",
   "name": "python3"
  },
  "language_info": {
   "codemirror_mode": {
    "name": "ipython",
    "version": 3
   },
   "file_extension": ".py",
   "mimetype": "text/x-python",
   "name": "python",
   "nbconvert_exporter": "python",
   "pygments_lexer": "ipython3",
   "version": "3.7.6"
  }
 },
 "nbformat": 4,
 "nbformat_minor": 2
}
