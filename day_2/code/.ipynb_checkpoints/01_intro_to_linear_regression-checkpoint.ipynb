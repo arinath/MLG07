{
 "cells": [
  {
   "cell_type": "markdown",
   "metadata": {},
   "source": [
    "# Intro to Linear Regression"
   ]
  },
  {
   "cell_type": "markdown",
   "metadata": {},
   "source": [
    "### Table of Contents\n",
    "\n",
    "1. [Linear regression \"by hand\"](#1.-Linear-regression-\"by-hand\")\n",
    "2. [Exercise: estimating coefficients for linear regression](#2.-Exercise:-estimating-coefficients-for-linear-regression)\n",
    "3. [Calculating $R^2$ and root mean squared error (RMSE)](#3.-Calculating-$R^2$-and-root-mean-squared-error-(RMSE))\n",
    "4. [Exercise: evaluate our first model](#4.-Exercise:-evaluate-our-first-model)\n",
    "5. [Exercise: create and evaluate a new model](#5.-Exercise:-create-and-evaluate-a-new-model)\n",
    "6. [Adding dummy variables](#6.-Adding-dummy-variables)\n",
    "7. [Exercise: create dummy variables](#7.-Exercise:-create-dummy-variables)\n",
    "8. [Final exercise: create a function for our linear regression model](#8.-Final-exercise:-create-a-function-for-our-linear-regression-model)\n",
    "9. [Reference](#9.-Reference)"
   ]
  },
  {
   "cell_type": "markdown",
   "metadata": {},
   "source": [
    "### 1. Linear regression \"by hand\""
   ]
  },
  {
   "cell_type": "markdown",
   "metadata": {},
   "source": [
    "Before we jump into fancy packages that have already solved for many of the fancy algorithms we use in practice, let's build a basic linear regression model from scratch to understand how it works."
   ]
  },
  {
   "cell_type": "code",
   "execution_count": null,
   "metadata": {},
   "outputs": [],
   "source": [
    "# import packages\n",
    "import matplotlib.pyplot as plt\n",
    "import numpy as np\n",
    "import pandas as pd\n",
    "import seaborn as sns\n",
    "from sklearn.model_selection import train_test_split"
   ]
  },
  {
   "cell_type": "code",
   "execution_count": null,
   "metadata": {},
   "outputs": [],
   "source": [
    "# create a practice data set\n",
    "X0 = [    1,    1,    1,   1,     1]\n",
    "X1 = [3.385, 0.48, 1.35, 465, 36.33]\n",
    "\n",
    "# response\n",
    "Y0 = [ 44.5, 15.5,  8.1, 423, 119.5]  "
   ]
  },
  {
   "cell_type": "markdown",
   "metadata": {},
   "source": [
    "With our data loaded, let's calculate our coefficients `beta` and `epsilon`"
   ]
  },
  {
   "cell_type": "markdown",
   "metadata": {},
   "source": [
    "$$y = X\\beta + \\epsilon$$"
   ]
  },
  {
   "cell_type": "code",
   "execution_count": null,
   "metadata": {},
   "outputs": [],
   "source": [
    "# arrange in the form Y = X*beta + epsilon\n",
    "X = np.matrix([X0, X1]).T\n",
    "Y = np.matrix(Y0).T"
   ]
  },
  {
   "cell_type": "markdown",
   "metadata": {},
   "source": [
    "Steps:\n",
    "\n",
    "+ Step 1: $ X^{T}X$\n",
    "+ Step 2: $(X^{T}X)^{-1}$\n",
    "+ Step 3: $ X^{T}y $\n",
    "+ Step 4: $ (X^{T}X)^{-1}X^{T}y $\n"
   ]
  },
  {
   "cell_type": "code",
   "execution_count": null,
   "metadata": {},
   "outputs": [],
   "source": [
    "# Estimate coefficients with matrix algebra\n",
    "# beta-hat = inverse(transpose(X)*X)*transpose(X)*Y \n",
    "step1 = X.T * X \n",
    "step2 = step1.I\n",
    "step3 = X.T * Y\n",
    "step4 = step2 * step3"
   ]
  },
  {
   "cell_type": "code",
   "execution_count": null,
   "metadata": {},
   "outputs": [],
   "source": [
    "# the estimates of the coefficients of X0 and X1\n",
    "beta_hat = (X.T * X).I * X.T * Y\n",
    "print(beta_hat)"
   ]
  },
  {
   "cell_type": "code",
   "execution_count": null,
   "metadata": {},
   "outputs": [],
   "source": [
    "# Does that make sense?\n",
    "# How are the independent and dependent variables related?\n",
    "df = pd.DataFrame({'X':X1,\n",
    "                   'Y':Y0})\n",
    "\n",
    "# plot of X1 vs Y (similarly we can have for X0 vs Y)\n",
    "df.plot(kind='scatter', x='X', y='Y',\n",
    "        title='Scatterplot of X vs Y')"
   ]
  },
  {
   "cell_type": "code",
   "execution_count": null,
   "metadata": {},
   "outputs": [],
   "source": [
    "# Correlation coefficient between \n",
    "# the independent and dependent variables\n",
    "\n",
    "np.corrcoef(df['X'],\n",
    "            df['Y'])\n",
    "df.corr() "
   ]
  },
  {
   "cell_type": "code",
   "execution_count": null,
   "metadata": {},
   "outputs": [],
   "source": [
    "# Lets capture our predictions \n",
    "\n",
    "# model prediction\n",
    "df['Pred1'] = [37.20089608 + item * 0.83821876 for item in df['X']]"
   ]
  },
  {
   "cell_type": "code",
   "execution_count": null,
   "metadata": {},
   "outputs": [],
   "source": [
    "# parameter alpha indicates transparency, 0 (transparent) to 1 (opaque)\n",
    "plt.scatter('X', 'Pred1', data=df, color='blue', alpha=0.5)\n",
    "plt.scatter('X', 'Y', data=df, color='red', alpha=0.5)\n",
    "plt.xlabel('X')\n",
    "plt.ylabel('Y')\n",
    "plt.legend()\n",
    "plt.title('Scatterplot of X vs. Y and Pred1')\n",
    "plt.show()"
   ]
  },
  {
   "cell_type": "code",
   "execution_count": null,
   "metadata": {},
   "outputs": [],
   "source": [
    "# As the saying goes, if you ever write code more than twice, you should write a function to make it repeatable\n",
    "# the function below takes a pandas DataFrame as an input and plots a heatmap of correlation between its columns \n",
    "\n",
    "def corr_matrix(data):\n",
    "    '''\n",
    "    Plots a correlation heatmap for a given dataframe\n",
    "    '''\n",
    "    \n",
    "    sns.set(style=\"white\")\n",
    "    corr = data.corr()\n",
    "\n",
    "    # Generate a mask for the upper triangle\n",
    "    mask = np.zeros_like(corr, dtype=np.bool)\n",
    "    mask[np.triu_indices_from(mask)] = True\n",
    "\n",
    "    # Set up the matplotlib figure\n",
    "    f, ax = plt.subplots(figsize=(11, 9))\n",
    "\n",
    "    # Generate a custom diverging colormap\n",
    "    cmap = sns.diverging_palette(220, 10, as_cmap=True)\n",
    "\n",
    "    # Draw the heatmap with the mask and correct aspect ratio\n",
    "    sns.heatmap(corr, mask=mask, cmap=cmap, vmax=1, center=0,\n",
    "                square=True, linewidths=.5, cbar_kws={\"shrink\": .5})"
   ]
  },
  {
   "cell_type": "code",
   "execution_count": null,
   "metadata": {},
   "outputs": [],
   "source": [
    "corr_matrix(df)"
   ]
  },
  {
   "cell_type": "markdown",
   "metadata": {},
   "source": [
    "### 2. Exercise: estimating coefficients for linear regression"
   ]
  },
  {
   "cell_type": "markdown",
   "metadata": {},
   "source": [
    "__(5 min.)__ Apply the techniques above to a real dataset. Estimate the coefficients for a linear regression for input value `TV` and response value `Sales`"
   ]
  },
  {
   "cell_type": "code",
   "execution_count": null,
   "metadata": {},
   "outputs": [],
   "source": [
    "# read dataset\n",
    "adv = pd.read_csv('..\\data\\Advertising.csv')"
   ]
  },
  {
   "cell_type": "markdown",
   "metadata": {},
   "source": [
    "### 3. Calculating $R^2$ and root mean squared error (RMSE)"
   ]
  },
  {
   "cell_type": "code",
   "execution_count": null,
   "metadata": {},
   "outputs": [],
   "source": [
    "# First with our dummy dataset 'df'\n",
    "\n",
    "tss = sum([(df['Y'].mean() - df.loc[n,'Y'])**2\n",
    "           for n in range(len(df))])\n",
    "\n",
    "rss = sum([(df.loc[n,'Pred1'] - df.loc[n,'Y'])**2\n",
    "           for n in range(len(df))])\n",
    "\n",
    "r_squ = 1 - (rss / tss)\n",
    "\n",
    "a_r_squ = (1 - ((1 - r_squ) * (len(df) - 1) \n",
    "           / (len(df) - 2 - 1)))\n",
    "\n",
    "rmse = np.sqrt(np.mean([(df.loc[n, 'Pred1']\n",
    "                         - df.loc[n, 'Y'])**2\n",
    "                        for n in range(len(df))]\n",
    "                      )\n",
    "              )\n",
    "\n",
    "print(rmse)"
   ]
  },
  {
   "cell_type": "code",
   "execution_count": null,
   "metadata": {},
   "outputs": [],
   "source": [
    "# printing with rounding off upto 3, 4 and 2 decimal places. \n",
    "print('Metrics for Pred1:')\n",
    "print('r_squ   = ' + str(round(r_squ, 3)))\n",
    "print('a_r_squ = ' + str(round(a_r_squ, 4)))\n",
    "print('rmse    = ' + str(round(rmse, 2)))"
   ]
  },
  {
   "cell_type": "markdown",
   "metadata": {},
   "source": [
    "### 4. Exercise: evaluate our first model"
   ]
  },
  {
   "cell_type": "markdown",
   "metadata": {},
   "source": [
    "__(5 min.)__ Use the advertising dataset `adv`"
   ]
  },
  {
   "cell_type": "code",
   "execution_count": null,
   "metadata": {},
   "outputs": [],
   "source": []
  },
  {
   "cell_type": "markdown",
   "metadata": {},
   "source": [
    "### 5. Exercise: create and evaluate a new model"
   ]
  },
  {
   "cell_type": "markdown",
   "metadata": {},
   "source": [
    "__(10 min.)__ How does our previous model compare to a new model that includes both the `TV` and `Newspaper` variables? Create a new model and evalute its performance."
   ]
  },
  {
   "cell_type": "code",
   "execution_count": null,
   "metadata": {},
   "outputs": [],
   "source": []
  },
  {
   "cell_type": "markdown",
   "metadata": {},
   "source": [
    "### 6. Adding dummy variables"
   ]
  },
  {
   "cell_type": "markdown",
   "metadata": {},
   "source": [
    "Would including `Region` in your prediction have an impact?"
   ]
  },
  {
   "cell_type": "code",
   "execution_count": null,
   "metadata": {},
   "outputs": [],
   "source": [
    "adv.groupby('Region')['Sales'].mean()"
   ]
  },
  {
   "cell_type": "code",
   "execution_count": null,
   "metadata": {},
   "outputs": [],
   "source": [
    "# Create new variables for each region\n",
    "region_dummies = pd.get_dummies(adv.Region, prefix='Region')"
   ]
  },
  {
   "cell_type": "code",
   "execution_count": null,
   "metadata": {},
   "outputs": [],
   "source": [
    "# Keep all but one of them\n",
    "region_dummies = region_dummies.iloc[:, 1:]"
   ]
  },
  {
   "cell_type": "code",
   "execution_count": null,
   "metadata": {},
   "outputs": [],
   "source": [
    "# Merge your dummy variables back onto your Advertising dataset\n",
    "adv = pd.concat([adv, region_dummies], axis=1)"
   ]
  },
  {
   "cell_type": "code",
   "execution_count": null,
   "metadata": {},
   "outputs": [],
   "source": [
    "# create new feature 'Area', randomly assign as 'rural' or 'suburban' or 'urban'\n",
    "\n",
    "# random seeds ensure that results are consistant \n",
    "np.random.seed(12345)\n",
    "\n",
    "nums = np.random.rand(len(adv))\n",
    "mask_suburban = (nums > 0.33) & (nums < 0.66)\n",
    "mask_urban = nums > 0.66\n",
    "adv['Area'] = 'rural'\n",
    "adv.loc[mask_suburban, 'Area'] = 'suburban'\n",
    "adv.loc[mask_urban, 'Area'] = 'urban'"
   ]
  },
  {
   "cell_type": "markdown",
   "metadata": {},
   "source": [
    "### 7. Exercise: create dummy variables"
   ]
  },
  {
   "cell_type": "markdown",
   "metadata": {},
   "source": [
    "__(5 min.)__ Create dummy variables `Area_suburban` and `Area_urban`"
   ]
  },
  {
   "cell_type": "code",
   "execution_count": null,
   "metadata": {},
   "outputs": [],
   "source": []
  },
  {
   "cell_type": "markdown",
   "metadata": {},
   "source": [
    "### 8. Final exercise: create a function for our linear regression model"
   ]
  },
  {
   "cell_type": "markdown",
   "metadata": {},
   "source": [
    "__(15 min.)__ You've found that this model is successful, so you want to make it reusable for future datasets. Write a function that quickly evalutes a few different combinations of variables and records your best model."
   ]
  },
  {
   "cell_type": "code",
   "execution_count": null,
   "metadata": {},
   "outputs": [],
   "source": [
    "def estimate_optimal_lr_coefficients(df, features, target):\n",
    "    \"\"\"\n",
    "    Parameters\n",
    "    ----------\n",
    "    df : pandas DataFrame\n",
    "    features : list\n",
    "        List of features (columns) in df to use for predictions \n",
    "    target : str\n",
    "        Name of column in df to use as target variable\n",
    "    \n",
    "    Returns\n",
    "    -------\n",
    "    coefs : numpy matrix\n",
    "    \n",
    "    \"\"\"\n",
    "\n",
    "    ### YOUR CODE HERE\n",
    "    \n",
    "    return coefs"
   ]
  },
  {
   "cell_type": "code",
   "execution_count": null,
   "metadata": {},
   "outputs": [],
   "source": [
    "def make_lr_predictions(df, features, coefficients):\n",
    "    \"\"\"\n",
    "    Parameters\n",
    "    ----------\n",
    "    df : pandas DataFrame\n",
    "    features : list\n",
    "        List of features (columns) in df to use for predictions \n",
    "    coefs : numpy matrix\n",
    "        Coefficients calculated in estimate_optimal_lr_coefficients()\n",
    "    \n",
    "    Returns\n",
    "    -------\n",
    "    preds : list\n",
    "    \n",
    "    \"\"\"\n",
    "    \n",
    "    ### YOUR CODE HERE\n",
    "    \n",
    "    return preds"
   ]
  },
  {
   "cell_type": "code",
   "execution_count": null,
   "metadata": {},
   "outputs": [],
   "source": [
    "def evaluate_lr_predictions(df, target, preds):\n",
    "    \"\"\"\n",
    "    Parameters\n",
    "    ----------\n",
    "    df : pandas DataFrame\n",
    "    features : list\n",
    "        List of features (columns) in df to use for predictions \n",
    "    preds : list\n",
    "    \n",
    "    Returns\n",
    "    -------\n",
    "    r_squ, rmse : float, float\n",
    "    \n",
    "    \"\"\"\n",
    "    \n",
    "    ### YOUR CODE HERE\n",
    "    \n",
    "    return r_squ, rmse"
   ]
  },
  {
   "cell_type": "markdown",
   "metadata": {},
   "source": [
    "### 9. Reference\n",
    "- [Regression](https://en.wikipedia.org/wiki/Regression_analysis) \n",
    "- [seaborn plots](https://pypi.org/project/seaborn/) \n",
    "- [scikit_learn](http://scikit-learn.org/stable/) \n",
    "- [scatter plots](https://matplotlib.org/api/_as_gen/matplotlib.pyplot.scatter.html)\n",
    "- [Mean square error](http://scikit-learn.org/stable/modules/generated/sklearn.metrics.mean_squared_error.html)"
   ]
  }
 ],
 "metadata": {
  "kernelspec": {
   "display_name": "Python 3",
   "language": "python",
   "name": "python3"
  },
  "language_info": {
   "codemirror_mode": {
    "name": "ipython",
    "version": 3
   },
   "file_extension": ".py",
   "mimetype": "text/x-python",
   "name": "python",
   "nbconvert_exporter": "python",
   "pygments_lexer": "ipython3",
   "version": "3.7.6"
  }
 },
 "nbformat": 4,
 "nbformat_minor": 2
}
