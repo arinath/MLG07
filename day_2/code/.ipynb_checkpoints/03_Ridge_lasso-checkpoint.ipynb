{
 "cells": [
  {
   "cell_type": "markdown",
   "metadata": {},
   "source": [
    "# Ridge and Lasso Regression"
   ]
  },
  {
   "cell_type": "markdown",
   "metadata": {},
   "source": [
    "### Table of Contents\n",
    "1. [Getting started](#1.-Getting-started)\n",
    "2. [Estimating coefficients](#2.-Estimating-coefficients)\n",
    "3. [Model evaluation](#3.-Model-evaluation)\n",
    "4. [Exercise: model comparison and cross-validation](#4.-Exercise:-model-comparison-and-cross-validation)\n",
    "5. [Exercise: regression with a new dataset](#5.-Exercise:-regression-with-a-new-dataset)"
   ]
  },
  {
   "cell_type": "markdown",
   "metadata": {},
   "source": [
    "### 1. Getting started"
   ]
  },
  {
   "cell_type": "code",
   "execution_count": null,
   "metadata": {},
   "outputs": [],
   "source": [
    "# importing packages\n",
    "\n",
    "import matplotlib.pyplot as plt\n",
    "import numpy as np\n",
    "import pandas as pd\n",
    "from sklearn.linear_model import LinearRegression, Ridge, Lasso\n",
    "from sklearn.metrics import mean_squared_error\n",
    "from sklearn.model_selection import train_test_split, cross_val_score\n",
    "from sklearn.preprocessing import StandardScaler"
   ]
  },
  {
   "cell_type": "code",
   "execution_count": null,
   "metadata": {},
   "outputs": [],
   "source": [
    "# importing the data\n",
    "\n",
    "adv = pd.read_csv('../data/advertising.csv') \n",
    "adv.head(5) # top 5 rows"
   ]
  },
  {
   "cell_type": "code",
   "execution_count": null,
   "metadata": {},
   "outputs": [],
   "source": [
    "adv['TV'].hist()"
   ]
  },
  {
   "cell_type": "markdown",
   "metadata": {},
   "source": [
    "This go around, we are going to __scale__ our features. Thinking back to our feature engineering lesson, a common way to prepare data for regression is __standardization__, also known as __z-score normalization__.\n",
    "\n",
    "The idea is that for every column `x`, the transformed values for that column `x'`are calculated as follows so that the resulting values are normally distributed:"
   ]
  },
  {
   "cell_type": "markdown",
   "metadata": {},
   "source": [
    "$x' = \\frac{x - x_{mean}}{\\sigma}$"
   ]
  },
  {
   "cell_type": "code",
   "execution_count": null,
   "metadata": {},
   "outputs": [],
   "source": [
    "scaler = StandardScaler()\n",
    "columns_to_scale = ['TV', 'Radio', 'Newspaper']\n",
    "scaled_column_names = [column + '_scaled' for column in columns_to_scale]\n",
    "scaled_columns = pd.DataFrame(scaler.fit_transform(adv[columns_to_scale]),\n",
    "                              columns = scaled_column_names)\n",
    "adv = pd.concat([adv, scaled_columns], axis = 1)"
   ]
  },
  {
   "cell_type": "code",
   "execution_count": null,
   "metadata": {},
   "outputs": [],
   "source": [
    "adv.head()"
   ]
  },
  {
   "cell_type": "code",
   "execution_count": null,
   "metadata": {},
   "outputs": [],
   "source": [
    "adv['TV_scaled'].hist()"
   ]
  },
  {
   "cell_type": "code",
   "execution_count": null,
   "metadata": {},
   "outputs": [],
   "source": [
    "# Split data into train and test\n",
    "\n",
    "train, test = train_test_split(adv,\n",
    "                               test_size=0.3,\n",
    "                               random_state=1)"
   ]
  },
  {
   "cell_type": "code",
   "execution_count": null,
   "metadata": {},
   "outputs": [],
   "source": [
    "# Convert them back into dataframes, for convenience\n",
    "\n",
    "train = pd.DataFrame(data=train,\n",
    "                     columns=adv.columns)\n",
    "\n",
    "test = pd.DataFrame(data=test,\n",
    "                    columns=adv.columns)"
   ]
  },
  {
   "cell_type": "markdown",
   "metadata": {},
   "source": [
    "### 2. Estimating coefficients"
   ]
  },
  {
   "cell_type": "code",
   "execution_count": null,
   "metadata": {},
   "outputs": [],
   "source": [
    "# Fit a linear regression model using OLS\n",
    "\n",
    "slm = LinearRegression()\n",
    "slm.fit(train[['TV_scaled','Newspaper_scaled']],\n",
    "        train['Sales']) # obtaining fit only based on TV and Newspaper"
   ]
  },
  {
   "cell_type": "code",
   "execution_count": null,
   "metadata": {},
   "outputs": [],
   "source": [
    "# Evaluate the output\n",
    "\n",
    "print(slm.intercept_)\n",
    "print(slm.coef_)"
   ]
  },
  {
   "cell_type": "code",
   "execution_count": null,
   "metadata": {},
   "outputs": [],
   "source": [
    "# Fit a linear regression model using Ridge\n",
    "\n",
    "ridge = Ridge()\n",
    "ridge.fit(train[['TV_scaled','Newspaper_scaled']],\n",
    "          train['Sales']) # obtaining fit only based on Tv and Newspaper."
   ]
  },
  {
   "cell_type": "code",
   "execution_count": null,
   "metadata": {},
   "outputs": [],
   "source": [
    "# Evaluate the output\n",
    "\n",
    "print(ridge.intercept_)\n",
    "print(ridge.coef_)"
   ]
  },
  {
   "cell_type": "code",
   "execution_count": null,
   "metadata": {},
   "outputs": [],
   "source": [
    "# Fit a linear regression model using Lasso\n",
    "\n",
    "lasso = Lasso()\n",
    "lasso.fit(train[['TV_scaled','Newspaper_scaled']],\n",
    "          train['Sales']) # obtaining fit only based on Tv and Newspaper."
   ]
  },
  {
   "cell_type": "code",
   "execution_count": null,
   "metadata": {},
   "outputs": [],
   "source": [
    "# Evaluate the output\n",
    "\n",
    "print(lasso.intercept_)\n",
    "print(lasso.coef_)"
   ]
  },
  {
   "cell_type": "markdown",
   "metadata": {},
   "source": [
    "### 3. Model Evaluation"
   ]
  },
  {
   "cell_type": "markdown",
   "metadata": {},
   "source": [
    "Now, we evaluate the models we've created using the __test__ dataset (the data the model hasn't yet seen)."
   ]
  },
  {
   "cell_type": "markdown",
   "metadata": {},
   "source": [
    "1. Evaluate the predictions of the two models based on the testing dataset"
   ]
  },
  {
   "cell_type": "code",
   "execution_count": null,
   "metadata": {},
   "outputs": [],
   "source": [
    "# Ridge\n",
    "ridge_preds = ridge.predict(test[['TV_scaled','Newspaper_scaled']])\n",
    "#  predicting the sales of test dataset based on TV and Newspaper\n",
    "\n",
    "np.sqrt(mean_squared_error(test['Sales'], ridge_preds))\n",
    "# RMSE obtained by Ridge"
   ]
  },
  {
   "cell_type": "code",
   "execution_count": null,
   "metadata": {},
   "outputs": [],
   "source": [
    "# Lasso\n",
    "lasso_preds = lasso.predict(test[['TV_scaled','Newspaper_scaled']])\n",
    "np.sqrt(mean_squared_error(test['Sales'], lasso_preds))"
   ]
  },
  {
   "cell_type": "markdown",
   "metadata": {},
   "source": [
    "2. Evaluate the model using cross-validation"
   ]
  },
  {
   "cell_type": "code",
   "execution_count": null,
   "metadata": {},
   "outputs": [],
   "source": [
    "ridge_cv_scores = cross_val_score(ridge,\n",
    "                                  adv[['TV_scaled', 'Newspaper_scaled']], adv['Sales'],\n",
    "                                  cv=5, scoring='neg_mean_squared_error')\n",
    "np.mean(np.sqrt(-ridge_cv_scores))"
   ]
  },
  {
   "cell_type": "code",
   "execution_count": null,
   "metadata": {},
   "outputs": [],
   "source": [
    "lasso_cv_scores = cross_val_score(lasso,\n",
    "                                  adv[['TV_scaled', 'Newspaper_scaled']], adv['Sales'],\n",
    "                                  cv=5, scoring='neg_mean_squared_error')\n",
    "np.mean(np.sqrt(-lasso_cv_scores))"
   ]
  },
  {
   "cell_type": "markdown",
   "metadata": {},
   "source": [
    "### 4. Exercise: Model comparison and cross-validation"
   ]
  },
  {
   "cell_type": "markdown",
   "metadata": {},
   "source": [
    "__(10 min.)__\n",
    "\n",
    "1. Run all three types of multiple linear regressions (OLS, Ridge, Lasso) with __all__ of your features. \n",
    "  - Now that you've scaled your features, you don't need to use both the unscaled and scaled version\n",
    "  - Which coefficients have higher values?\n",
    "  - What does this suggest practically?\n",
    "\n",
    "\n",
    "2. Calculate the 5-fold CV RMSE. Is it better or worse than before?"
   ]
  },
  {
   "cell_type": "code",
   "execution_count": null,
   "metadata": {},
   "outputs": [],
   "source": []
  },
  {
   "cell_type": "markdown",
   "metadata": {},
   "source": [
    "### 5. Exercise: Regression with a new dataset"
   ]
  },
  {
   "cell_type": "markdown",
   "metadata": {},
   "source": [
    "__(20 min.)__\n",
    "\n",
    "1. Perform EDA on a new dataset: `credit.csv`\n",
    "2. Determine your target variable and features\n",
    "3. Select a model: Ridge, Lasso, OLS\n",
    "4. Support your selections to your client"
   ]
  },
  {
   "cell_type": "code",
   "execution_count": null,
   "metadata": {},
   "outputs": [],
   "source": []
  },
  {
   "cell_type": "markdown",
   "metadata": {},
   "source": [
    "### 6. Reference"
   ]
  },
  {
   "cell_type": "markdown",
   "metadata": {},
   "source": [
    "- [Ridge and lasso regression](http://statweb.stanford.edu/~tibs/sta305files/Rudyregularization.pdf)\n",
    "- [scikit-learn](http://scikit-learn.org/stable/) \n",
    "- [scatter plots](https://matplotlib.org/api/_as_gen/matplotlib.pyplot.scatter.html)\n",
    "- [mean squared error](http://scikit-learn.org/stable/modules/generated/sklearn.metrics.mean_squared_error.html)\n",
    "- [cross-validation](http://scikit-learn.org/stable/modules/cross_validation.html)"
   ]
  }
 ],
 "metadata": {
  "kernelspec": {
   "display_name": "Python 3",
   "language": "python",
   "name": "python3"
  },
  "language_info": {
   "codemirror_mode": {
    "name": "ipython",
    "version": 3
   },
   "file_extension": ".py",
   "mimetype": "text/x-python",
   "name": "python",
   "nbconvert_exporter": "python",
   "pygments_lexer": "ipython3",
   "version": "3.7.6"
  }
 },
 "nbformat": 4,
 "nbformat_minor": 2
}
