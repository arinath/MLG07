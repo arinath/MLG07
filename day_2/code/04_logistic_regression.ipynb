{
 "cells": [
  {
   "cell_type": "markdown",
   "metadata": {},
   "source": [
    "# Logistic Regression"
   ]
  },
  {
   "cell_type": "markdown",
   "metadata": {},
   "source": [
    "### Table of Contents\n",
    "\n",
    "1. [EDA](#1.-EDA)\n",
    "2. [Logistic regression](#2.-Logistic-regression)\n",
    "3. [Reference](#3.-Reference)"
   ]
  },
  {
   "cell_type": "markdown",
   "metadata": {},
   "source": [
    "### 1. EDA"
   ]
  },
  {
   "cell_type": "code",
   "execution_count": null,
   "metadata": {},
   "outputs": [],
   "source": [
    "# Import libraries\n",
    "\n",
    "import matplotlib.pyplot as plt\n",
    "import numpy as np\n",
    "import pandas as pd\n",
    "from sklearn.linear_model import LogisticRegression\n",
    "from sklearn.model_selection import train_test_split"
   ]
  },
  {
   "cell_type": "code",
   "execution_count": null,
   "metadata": {},
   "outputs": [],
   "source": [
    "# Reading data\n",
    "defaults = pd.read_csv('../data/default.csv')\n",
    "\n",
    "defaults.head()"
   ]
  },
  {
   "cell_type": "code",
   "execution_count": null,
   "metadata": {},
   "outputs": [],
   "source": [
    "## get dummy variables for 'student' plotting\n",
    "\n",
    "student_dummies = pd.get_dummies(defaults['student'], prefix='student')\n",
    "defaults['student_yes'] = student_dummies['student_Yes']\n",
    "defaults.head()"
   ]
  },
  {
   "cell_type": "code",
   "execution_count": null,
   "metadata": {},
   "outputs": [],
   "source": [
    "features = ['balance', 'income', 'student_yes']\n",
    "target = 'default'"
   ]
  },
  {
   "cell_type": "code",
   "execution_count": null,
   "metadata": {},
   "outputs": [],
   "source": [
    "# Spliting the data into train and test sets\n",
    "\n",
    "defaults_train, defaults_test = train_test_split(defaults[features + [target]],\n",
    "                                                 test_size=0.3,\n",
    "                                                 random_state=1)\n",
    "\n",
    "for split in [defaults_train, defaults_test]:\n",
    "    split = pd.DataFrame(data=split, columns = features + [target])"
   ]
  },
  {
   "cell_type": "markdown",
   "metadata": {},
   "source": [
    "#### Histogram of all variables along with target variable for training data"
   ]
  },
  {
   "cell_type": "code",
   "execution_count": null,
   "metadata": {},
   "outputs": [],
   "source": [
    "# Create a histogram of all variables along with target variable for training data\n",
    "\n",
    "# If you want to plot multiple plots, call matplotlib's .subplots()\n",
    "# This returns two objects: fig (the overall picture), and ax, which you can subset for individual plots\n",
    "fig, ax = plt.subplots(2,2)\n",
    "\n",
    "ax[0,0].hist(defaults_train['balance'])\n",
    "ax[0,0].set_title('balance')\n",
    "ax[1,0].hist(defaults_train['income'])\n",
    "ax[1,0].set_title('income')\n",
    "ax[0,1].hist(defaults_train['student_yes'])\n",
    "ax[0,1].set_title('student_yes')\n",
    "ax[1,1].hist(defaults_train['default'])\n",
    "ax[1,1].set_title('default')\n",
    "\n",
    "# the tight_layout() command cleans up issues when text/objects bleed into each other\n",
    "plt.tight_layout()\n",
    "plt.show()"
   ]
  },
  {
   "cell_type": "markdown",
   "metadata": {},
   "source": [
    "#### Histogram of all variables along with target variable for testing data\n",
    "\n",
    "Since we're repeating this process, let's create a reusable function."
   ]
  },
  {
   "cell_type": "code",
   "execution_count": null,
   "metadata": {},
   "outputs": [],
   "source": [
    "def plot_histograms_columns(df, columns, nrows, ncols):\n",
    "    \"\"\"\n",
    "    Parameters\n",
    "    ----------\n",
    "    df : pandas DataFrame\n",
    "    columns : list\n",
    "        Columns of df to plot in each histogram\n",
    "    nrows : int\n",
    "        Number of rows to use for subplot arrangement\n",
    "    ncols : int\n",
    "        Number of columns to use for subplot arrangement\n",
    "    \"\"\"\n",
    "    fig, ax = plt.subplots(nrows, ncols)\n",
    "    \n",
    "    assert len(columns) <= nrows * ncols, 'There are too many columns: len(columns) < nrows * ncols'\n",
    "    \n",
    "    row = 0\n",
    "    col = 0\n",
    "    \n",
    "    for column in columns:\n",
    "        ax[row, col].hist(df[column])\n",
    "        ax[row, col].set_title(column)\n",
    "        if row < nrows - 1:\n",
    "            row += 1\n",
    "        else:\n",
    "            row = 0\n",
    "            col += 1\n",
    "    \n",
    "    plt.tight_layout()\n",
    "    plt.show()"
   ]
  },
  {
   "cell_type": "code",
   "execution_count": null,
   "metadata": {},
   "outputs": [],
   "source": [
    "plot_histograms_columns(defaults_train, features + [target], 2, 2)"
   ]
  },
  {
   "cell_type": "code",
   "execution_count": null,
   "metadata": {},
   "outputs": [],
   "source": [
    "plot_histograms_columns(defaults_test, features + [target], 2, 2)"
   ]
  },
  {
   "cell_type": "markdown",
   "metadata": {},
   "source": [
    "#### Scatter plot: balance and income for training data"
   ]
  },
  {
   "cell_type": "code",
   "execution_count": null,
   "metadata": {},
   "outputs": [],
   "source": [
    "# Create a scatter plot of the income vs. balance\n",
    "\n",
    "defaults_train.plot(x='balance', y='income',\n",
    "                    kind='scatter',\n",
    "                    alpha=0.3)\n",
    "\n",
    "plt.ylim([0,80000])\n",
    "plt.xlim([0, 2800])\n",
    "\n",
    "plt.title(\"Scatter plot: balance and income, training data\")\n",
    "plt.xlabel(\"Balance\")\n",
    "plt.ylabel(\"Income\")\n",
    "\n",
    "plt.show()"
   ]
  },
  {
   "cell_type": "markdown",
   "metadata": {},
   "source": [
    "#### Scatter plot: balance and income for training data, non-default vs. default records"
   ]
  },
  {
   "cell_type": "code",
   "execution_count": null,
   "metadata": {},
   "outputs": [],
   "source": [
    "# Mark defaults with a different color and symbol\n",
    "defaults_train_nd = defaults_train.loc[defaults_train['default'] == 0]\n",
    "defaults_train_d = defaults_train.loc[defaults_train['default'] == 1]\n",
    "\n",
    "plt.figure()\n",
    "plt.scatter(defaults_train_nd['balance'],\n",
    "            defaults_train_nd['income'],\n",
    "            alpha=0.3,\n",
    "            marker='+',\n",
    "            c='green')\n",
    "\n",
    "plt.scatter(defaults_train_d['balance'],\n",
    "            defaults_train_d['income'],\n",
    "            marker='o', \n",
    "            edgecolors='red',\n",
    "            facecolors='none')\n",
    "\n",
    "plt.ylim([0,80000])\n",
    "plt.xlim([0, 2800])\n",
    "\n",
    "plt.title(\"Scatter plot between Balance and Income for Non-Default and Default trainig data\")\n",
    "plt.xlabel(\"Balance\")\n",
    "plt.ylabel(\"Income\")\n",
    "\n",
    "plt.legend(('no default', 'default'),\n",
    "           loc='upper right')\n",
    "plt.show()\n",
    "\n",
    "# What can you infer from this plot?\n",
    "# It appears that the balance is more correlated with default than income"
   ]
  },
  {
   "cell_type": "markdown",
   "metadata": {},
   "source": [
    "### 2. Logistic regression"
   ]
  },
  {
   "cell_type": "markdown",
   "metadata": {},
   "source": [
    "Run a logistic regression to predict the variable `default` using only `balance`\n",
    "- What are the beta values?"
   ]
  },
  {
   "cell_type": "code",
   "execution_count": null,
   "metadata": {},
   "outputs": [],
   "source": [
    "lr = LogisticRegression()\n",
    "lr.fit(defaults_train[['balance']], defaults_train['default'])\n",
    "\n",
    "B1 = lr.coef_[0][0]\n",
    "B0 = lr.intercept_[0]\n",
    "\n",
    "print('Coefficient and Intercept for LR fit between balance and default data are {}, {}'.format(B1, B0))"
   ]
  },
  {
   "cell_type": "markdown",
   "metadata": {},
   "source": [
    "Predict the probability of default for two people, one with a balance of `$1700` and another with a balance of `$2500`"
   ]
  },
  {
   "cell_type": "code",
   "execution_count": null,
   "metadata": {},
   "outputs": [],
   "source": [
    "pred_prob = lr.predict_proba(pd.DataFrame({'balance': [1700, 2500]}))\n",
    "\n",
    "pred_class = lr.predict(pd.DataFrame({'balance': [1700, 2500]}))\n",
    "\n",
    "print('Predicted class and its probability for a balance of $1700 are {}, {}'.format(pred_class[0],\n",
    "                                                                                    pred_prob[0][0]))\n",
    "\n",
    "print('Predicted class and its probability for a balance of $2500 are {}, {}'.format(pred_class[1],\n",
    "                                                                                    pred_prob[1][1]))"
   ]
  },
  {
   "cell_type": "markdown",
   "metadata": {},
   "source": [
    "What does beta mean? Let's create some plots to find out!"
   ]
  },
  {
   "cell_type": "code",
   "execution_count": null,
   "metadata": {},
   "outputs": [],
   "source": [
    "x = np.linspace(defaults_test['balance'].min(), defaults_test['balance'].max(),500)\n",
    "beta = [B0,B1]\n",
    "\n",
    "y = np.exp(beta[0] + beta[1]*x) / (1 + np.exp(beta[0] + beta[1]*x))\n",
    "odds = np.exp(beta[0] + beta[1]*x)\n",
    "log_odds = beta[0] + beta[1]*x"
   ]
  },
  {
   "cell_type": "code",
   "execution_count": null,
   "metadata": {},
   "outputs": [],
   "source": [
    "plt.figure(figsize=(7, 8))\n",
    "\n",
    "plt.subplot(311)\n",
    "plt.plot(x, y, 'r', linewidth=2)\n",
    "plt.ylabel('Probability')\n",
    "plt.text(500, 0.7, r'$\\frac{e^{\\beta_o + \\beta_1x}}{1+e^{\\beta_o + \\beta_1x}}$', fontsize=25)\n",
    "\n",
    "plt.subplot(312)\n",
    "plt.plot(x, odds, 'k', linewidth=2)\n",
    "plt.ylabel('Odds')\n",
    "plt.text(500, 10, r'$e^{\\beta_o + \\beta_1x}$', fontsize=20)\n",
    "\n",
    "plt.subplot(313)\n",
    "plt.plot(x, log_odds, 'c', linewidth=2)\n",
    "plt.ylabel('Log(Odds)')\n",
    "plt.xlabel('x')\n",
    "plt.text(500, 1, r'$\\beta_o + \\beta_1x$', fontsize=15)\n",
    "\n",
    "plt.show()"
   ]
  },
  {
   "cell_type": "code",
   "execution_count": null,
   "metadata": {},
   "outputs": [],
   "source": [
    "# Plot the fitted logistic function overtop of the data points\n",
    "plt.figure()\n",
    "plt.scatter(defaults_test['balance'], defaults_test['default'], alpha=0.1)\n",
    "plt.plot(x, y, 'r', linewidth=2)\n",
    "plt.xlabel(\"Balance\")\n",
    "plt.ylabel(\"Probability of Default\")\n",
    "plt.ylim([-0.05,1.05]); plt.xlim([0, 2800])\n",
    "plt.show()"
   ]
  },
  {
   "cell_type": "code",
   "execution_count": null,
   "metadata": {},
   "outputs": [],
   "source": [
    "# Create predictions using the balance model on the test set\n",
    "defaults_test['pred_class'] = lr.predict(defaults_test[['balance']])"
   ]
  },
  {
   "cell_type": "markdown",
   "metadata": {},
   "source": [
    "### 3. Reference\n",
    "- [Logistic regression](https://towardsdatascience.com/logistic-regression-detailed-overview-46c4da4303bc)\n",
    "- [`scikit-learn` logistic regression](http://scikit-learn.org/stable/modules/generated/sklearn.linear_model.LogisticRegression.html)\n",
    "- [Scatter plots](https://matplotlib.org/api/_as_gen/matplotlib.pyplot.scatter.html)"
   ]
  }
 ],
 "metadata": {
  "kernelspec": {
   "display_name": "Python 3",
   "language": "python",
   "name": "python3"
  },
  "language_info": {
   "codemirror_mode": {
    "name": "ipython",
    "version": 3
   },
   "file_extension": ".py",
   "mimetype": "text/x-python",
   "name": "python",
   "nbconvert_exporter": "python",
   "pygments_lexer": "ipython3",
   "version": "3.7.6"
  }
 },
 "nbformat": 4,
 "nbformat_minor": 2
}
