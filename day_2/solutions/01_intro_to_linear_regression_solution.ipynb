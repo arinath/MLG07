{
 "cells": [
  {
   "cell_type": "markdown",
   "metadata": {},
   "source": [
    "# Intro to Linear Regression"
   ]
  },
  {
   "cell_type": "markdown",
   "metadata": {},
   "source": [
    "### Table of Contents\n",
    "\n",
    "1. [Linear regression \"by hand\"](#1.-Linear-regression-\"by-hand\")\n",
    "2. [Exercise: estimating coefficients for linear regression](#2.-Exercise:-estimating-coefficients-for-linear-regression)\n",
    "3. [Calculating $R^2$ and root mean squared error (RMSE)](#3.-Calculating-$R^2$-and-root-mean-squared-error-(RMSE))\n",
    "4. [Exercise: evaluate our first model](#4.-Exercise:-evaluate-our-first-model)\n",
    "5. [Exercise: create and evaluate a new model](#5.-Exercise:-create-and-evaluate-a-new-model)\n",
    "6. [Adding dummy variables](#6.-Adding-dummy-variables)\n",
    "7. [Exercise: create dummy variables](#7.-Exercise:-create-dummy-variables)\n",
    "8. [Final exercise: create a function for our linear regression model](#8.-Final-exercise:-create-a-function-for-our-linear-regression-model)\n",
    "9. [Reference](#9.-Reference)"
   ]
  },
  {
   "cell_type": "markdown",
   "metadata": {},
   "source": [
    "### 1. Linear regression \"by hand\""
   ]
  },
  {
   "cell_type": "markdown",
   "metadata": {},
   "source": [
    "Before we jump into fancy packages that have already solved for many of the fancy algorithms we use in practice, let's build a basic linear regression model from scratch to understand how it works."
   ]
  },
  {
   "cell_type": "code",
   "execution_count": 74,
   "metadata": {},
   "outputs": [],
   "source": [
    "# import packages\n",
    "import matplotlib.pyplot as plt\n",
    "import numpy as np\n",
    "import pandas as pd\n",
    "import seaborn as sns\n",
    "from sklearn.model_selection import train_test_split"
   ]
  },
  {
   "cell_type": "code",
   "execution_count": 75,
   "metadata": {},
   "outputs": [],
   "source": [
    "# create a practice data set\n",
    "X0 = [    1,    1,    1,   1,     1]\n",
    "X1 = [3.385, 0.48, 1.35, 465, 36.33]\n",
    "\n",
    "# response\n",
    "Y0 = [ 44.5, 15.5,  8.1, 423, 119.5]  "
   ]
  },
  {
   "cell_type": "markdown",
   "metadata": {},
   "source": [
    "With our data loaded, let's calculate our coefficients `beta` and `epsilon`"
   ]
  },
  {
   "cell_type": "markdown",
   "metadata": {},
   "source": [
    "$$y = X\\beta + \\epsilon$$"
   ]
  },
  {
   "cell_type": "code",
   "execution_count": 76,
   "metadata": {},
   "outputs": [],
   "source": [
    "# arrange in the form Y = X*beta + epsilon\n",
    "X = np.matrix([X0, X1]).T\n",
    "Y = np.matrix(Y0).T"
   ]
  },
  {
   "cell_type": "markdown",
   "metadata": {},
   "source": [
    "Steps:\n",
    "\n",
    "+ Step 1: $ X^{T}X$\n",
    "+ Step 2: $(X^{T}X)^{-1}$\n",
    "+ Step 3: $ X^{T}y $\n",
    "+ Step 4: $ (X^{T}X)^{-1}X^{T}y $\n"
   ]
  },
  {
   "cell_type": "code",
   "execution_count": 77,
   "metadata": {},
   "outputs": [],
   "source": [
    "# Estimate coefficients with matrix algebra\n",
    "# beta-hat = inverse(transpose(X)*X)*transpose(X)*Y \n",
    "step1 = X.T * X \n",
    "step2 = step1.I\n",
    "step3 = X.T * Y\n",
    "step4 = step2 * step3"
   ]
  },
  {
   "cell_type": "code",
   "execution_count": 78,
   "metadata": {},
   "outputs": [
    {
     "name": "stdout",
     "output_type": "stream",
     "text": [
      "[[37.20089608]\n",
      " [ 0.83821876]]\n"
     ]
    }
   ],
   "source": [
    "# the estimates of the coefficients of X0 and X1\n",
    "beta_hat = (X.T * X).I * X.T * Y\n",
    "print(beta_hat)"
   ]
  },
  {
   "cell_type": "code",
   "execution_count": 79,
   "metadata": {},
   "outputs": [
    {
     "name": "stderr",
     "output_type": "stream",
     "text": [
      "'c' argument looks like a single numeric RGB or RGBA sequence, which should be avoided as value-mapping will have precedence in case its length matches with 'x' & 'y'.  Please use a 2-D array with a single row if you really want to specify the same RGB or RGBA value for all points.\n"
     ]
    },
    {
     "data": {
      "text/plain": [
       "<matplotlib.axes._subplots.AxesSubplot at 0x1d7e11b9648>"
      ]
     },
     "execution_count": 79,
     "metadata": {},
     "output_type": "execute_result"
    },
    {
     "data": {
      "image/png": "[encoded data removed]",
      "text/plain": [
       "<Figure size 432x288 with 1 Axes>"
      ]
     },
     "metadata": {},
     "output_type": "display_data"
    }
   ],
   "source": [
    "# Does that make sense?\n",
    "# How are the independent and dependent variables related?\n",
    "df = pd.DataFrame({'X':X1,\n",
    "                   'Y':Y0})\n",
    "\n",
    "# plot of X1 vs Y (similarly we can have for X0 vs Y)\n",
    "df.plot(kind='scatter', x='X', y='Y',\n",
    "        title='Scatterplot of X vs Y')"
   ]
  },
  {
   "cell_type": "code",
   "execution_count": 80,
   "metadata": {},
   "outputs": [
    {
     "data": {
      "text/html": [
       "<div>\n",
       "<style scoped>\n",
       "    .dataframe tbody tr th:only-of-type {\n",
       "        vertical-align: middle;\n",
       "    }\n",
       "\n",
       "    .dataframe tbody tr th {\n",
       "        vertical-align: top;\n",
       "    }\n",
       "\n",
       "    .dataframe thead th {\n",
       "        text-align: right;\n",
       "    }\n",
       "</style>\n",
       "<table border=\"1\" class=\"dataframe\">\n",
       "  <thead>\n",
       "    <tr style=\"text-align: right;\">\n",
       "      <th></th>\n",
       "      <th>X</th>\n",
       "      <th>Y</th>\n",
       "    </tr>\n",
       "  </thead>\n",
       "  <tbody>\n",
       "    <tr>\n",
       "      <th>X</th>\n",
       "      <td>1.000000</td>\n",
       "      <td>0.982791</td>\n",
       "    </tr>\n",
       "    <tr>\n",
       "      <th>Y</th>\n",
       "      <td>0.982791</td>\n",
       "      <td>1.000000</td>\n",
       "    </tr>\n",
       "  </tbody>\n",
       "</table>\n",
       "</div>"
      ],
      "text/plain": [
       "          X         Y\n",
       "X  1.000000  0.982791\n",
       "Y  0.982791  1.000000"
      ]
     },
     "execution_count": 80,
     "metadata": {},
     "output_type": "execute_result"
    }
   ],
   "source": [
    "# Correlation coefficient between \n",
    "# the independent and dependent variables\n",
    "\n",
    "np.corrcoef(df['X'],\n",
    "            df['Y'])\n",
    "df.corr() "
   ]
  },
  {
   "cell_type": "code",
   "execution_count": 81,
   "metadata": {},
   "outputs": [],
   "source": [
    "# Lets capture our predictions \n",
    "\n",
    "# model prediction\n",
    "df['Pred1'] = [37.20089608 + item * 0.83821876 for item in df['X']]"
   ]
  },
  {
   "cell_type": "code",
   "execution_count": 82,
   "metadata": {},
   "outputs": [
    {
     "data": {
      "image/png": "[encoded data removed]",
      "text/plain": [
       "<Figure size 432x288 with 1 Axes>"
      ]
     },
     "metadata": {},
     "output_type": "display_data"
    }
   ],
   "source": [
    "# parameter alpha indicates transparency, 0 (transparent) to 1 (opaque)\n",
    "plt.scatter('X', 'Pred1', data=df, color='blue', alpha=0.5)\n",
    "plt.scatter('X', 'Y', data=df, color='red', alpha=0.5)\n",
    "plt.xlabel('X')\n",
    "plt.ylabel('Y')\n",
    "plt.legend()\n",
    "plt.title('Scatterplot of X vs. Y and Pred1')\n",
    "plt.show()"
   ]
  },
  {
   "cell_type": "code",
   "execution_count": 83,
   "metadata": {},
   "outputs": [],
   "source": [
    "# As the saying goes, if you ever write code more than twice, you should write a function to make it repeatable\n",
    "# the function below takes a pandas DataFrame as an input and plots a heatmap of correlation between its columns \n",
    "\n",
    "def corr_matrix(data):\n",
    "    '''\n",
    "    Plots a correlation heatmap for a given dataframe\n",
    "    '''\n",
    "    \n",
    "    sns.set(style=\"white\")\n",
    "    corr = data.corr()\n",
    "\n",
    "    # Generate a mask for the upper triangle\n",
    "    mask = np.zeros_like(corr, dtype=np.bool)\n",
    "    mask[np.triu_indices_from(mask)] = True\n",
    "\n",
    "    # Set up the matplotlib figure\n",
    "    f, ax = plt.subplots(figsize=(11, 9))\n",
    "\n",
    "    # Generate a custom diverging colormap\n",
    "    cmap = sns.diverging_palette(220, 10, as_cmap=True)\n",
    "\n",
    "    # Draw the heatmap with the mask and correct aspect ratio\n",
    "    sns.heatmap(corr, mask=mask, cmap=cmap, vmax=1, center=0,\n",
    "                square=True, linewidths=.5, cbar_kws={\"shrink\": .5})"
   ]
  },
  {
   "cell_type": "code",
   "execution_count": 84,
   "metadata": {},
   "outputs": [
    {
     "data": {
      "image/png": "[encoded data removed]",
      "text/plain": [
       "<Figure size 792x648 with 2 Axes>"
      ]
     },
     "metadata": {},
     "output_type": "display_data"
    }
   ],
   "source": [
    "corr_matrix(df)"
   ]
  },
  {
   "cell_type": "markdown",
   "metadata": {},
   "source": [
    "### 2. Exercise: estimating coefficients for linear regression"
   ]
  },
  {
   "cell_type": "markdown",
   "metadata": {},
   "source": [
    "__(5 min.)__ Apply the techniques above to a real dataset. Estimate the coefficients for a linear regression for input value `TV` and response value `Sales`"
   ]
  },
  {
   "cell_type": "code",
   "execution_count": 85,
   "metadata": {},
   "outputs": [],
   "source": [
    "# read dataset\n",
    "adv = pd.read_csv('..\\data\\Advertising.csv')"
   ]
  },
  {
   "cell_type": "code",
   "execution_count": 86,
   "metadata": {},
   "outputs": [
    {
     "data": {
      "image/png": "[encoded data removed]",
      "text/plain": [
       "<Figure size 792x648 with 2 Axes>"
      ]
     },
     "metadata": {},
     "output_type": "display_data"
    }
   ],
   "source": [
    "corr_matrix(adv)"
   ]
  },
  {
   "cell_type": "code",
   "execution_count": 87,
   "metadata": {},
   "outputs": [
    {
     "name": "stdout",
     "output_type": "stream",
     "text": [
      "[[7.03259355]\n",
      " [0.04753664]]\n"
     ]
    }
   ],
   "source": [
    "X1 = adv['TV']\n",
    "X0 = np.ones(200)\n",
    "Y0 = adv['Sales']\n",
    "X = np.matrix([X0, X1]).T\n",
    "Y = np.matrix(Y0).T\n",
    "beta_hat = (X.T * X).I * X.T * Y\n",
    "print(beta_hat)"
   ]
  },
  {
   "cell_type": "code",
   "execution_count": 88,
   "metadata": {},
   "outputs": [
    {
     "data": {
      "image/png": "[encoded data removed]",
      "text/plain": [
       "<Figure size 432x288 with 1 Axes>"
      ]
     },
     "metadata": {},
     "output_type": "display_data"
    }
   ],
   "source": [
    "# Lets capture our predictions \n",
    "adv['Pred1'] = [7.03259355 + item*0.04753664 for item in adv['TV']] # model prediction\n",
    "plt.scatter('TV', 'Pred1', data=adv, color='blue', alpha=0.5)\n",
    "plt.scatter('TV', 'Sales', data=adv, color='red', alpha=0.5)\n",
    "plt.xlabel('TV')\n",
    "plt.ylabel('Sales')\n",
    "plt.legend()\n",
    "plt.title('Scatterplot of TV vs. Sales and Pred1')\n",
    "plt.show()\n",
    "# adv.plot(kind='scatter', x='TV', y='Sales',title='Scatterplot of TV vs Sales') # plot of X1 vs Y (similarly we can have for X0 vs Y)"
   ]
  },
  {
   "cell_type": "markdown",
   "metadata": {},
   "source": [
    "### 3. Calculating $R^2$ and root mean squared error (RMSE)"
   ]
  },
  {
   "cell_type": "code",
   "execution_count": 89,
   "metadata": {},
   "outputs": [
    {
     "name": "stdout",
     "output_type": "stream",
     "text": [
      "28.72739877755197\n"
     ]
    }
   ],
   "source": [
    "# First with our dummy dataset 'df'\n",
    "\n",
    "tss = sum([(df['Y'].mean() - df.loc[n,'Y'])**2\n",
    "           for n in range(len(df))])\n",
    "\n",
    "rss = sum([(df.loc[n,'Pred1'] - df.loc[n,'Y'])**2\n",
    "           for n in range(len(df))])\n",
    "\n",
    "r_squ = 1 - (rss / tss)\n",
    "\n",
    "a_r_squ = (1 - ((1 - r_squ) * (len(df) - 1) \n",
    "           / (len(df) - 2 - 1)))\n",
    "\n",
    "rmse = np.sqrt(np.mean([(df.loc[n, 'Pred1']\n",
    "                         - df.loc[n, 'Y'])**2\n",
    "                        for n in range(len(df))]\n",
    "                      )\n",
    "              )\n",
    "\n",
    "print(rmse)"
   ]
  },
  {
   "cell_type": "code",
   "execution_count": 90,
   "metadata": {},
   "outputs": [
    {
     "name": "stdout",
     "output_type": "stream",
     "text": [
      "Metrics for Pred1:\n",
      "r_squ   = 0.966\n",
      "a_r_squ = 0.9318\n",
      "rmse    = 28.73\n"
     ]
    }
   ],
   "source": [
    "# printing with rounding off upto 3, 4 and 2 decimal places. \n",
    "print('Metrics for Pred1:')\n",
    "print('r_squ   = ' + str(round(r_squ, 3)))\n",
    "print('a_r_squ = ' + str(round(a_r_squ, 4)))\n",
    "print('rmse    = ' + str(round(rmse, 2)))"
   ]
  },
  {
   "cell_type": "markdown",
   "metadata": {},
   "source": [
    "### 4. Exercise: evaluate our first model"
   ]
  },
  {
   "cell_type": "markdown",
   "metadata": {},
   "source": [
    "__(5 min.)__ Use the advertising dataset `adv`"
   ]
  },
  {
   "cell_type": "code",
   "execution_count": 91,
   "metadata": {},
   "outputs": [
    {
     "name": "stdout",
     "output_type": "stream",
     "text": [
      "3.242322148654689\n"
     ]
    }
   ],
   "source": [
    "tss = sum([(adv['Sales'].mean() - adv.loc[n, 'Sales'])**2 for n in range(len(adv))]) \n",
    "rss = sum([(adv.loc[n, 'Pred1'] - adv.loc[n, 'Sales'])**2 for n in range(len(adv))])\n",
    "r_squ = 1 - (rss / rss)\n",
    "a_r_squ = 1 - ((1 - r_squ) * (len(adv) - 1) / (len(adv) - 2 - 1))\n",
    "rmse = np.sqrt(np.mean([(adv.loc[n, 'Pred1'] - adv.loc[n, 'Sales'])**2 for n in range(len(adv))]))\n",
    "print(rmse)"
   ]
  },
  {
   "cell_type": "code",
   "execution_count": 92,
   "metadata": {},
   "outputs": [
    {
     "name": "stdout",
     "output_type": "stream",
     "text": [
      "Metrics for Pred1:\n",
      "r_squ   = 0.0\n",
      "a_r_squ = -0.0102\n",
      "rmse    = 3.24\n"
     ]
    }
   ],
   "source": [
    "print('Metrics for Pred1:')\n",
    "print('r_squ   = ' + str(round(r_squ, 3)))\n",
    "print('a_r_squ = ' + str(round(a_r_squ, 4)))\n",
    "print('rmse    = ' + str(round(rmse, 2)))"
   ]
  },
  {
   "cell_type": "markdown",
   "metadata": {},
   "source": [
    "### 5. Exercise: create and evaluate a new model"
   ]
  },
  {
   "cell_type": "markdown",
   "metadata": {},
   "source": [
    "__(10 min.)__ How does our previous model compare to a new model that includes both the `TV` and `Newspaper` variables? Create a new model and evalute its performance."
   ]
  },
  {
   "cell_type": "code",
   "execution_count": 93,
   "metadata": {},
   "outputs": [
    {
     "name": "stdout",
     "output_type": "stream",
     "text": [
      "[[5.77494797]\n",
      " [0.04690121]\n",
      " [0.04421942]]\n"
     ]
    }
   ],
   "source": [
    "X2 = adv['Newspaper']\n",
    "X = np.matrix([X0, X1, X2]).T\n",
    "beta_hat = (X.T * X).I * X.T * Y\n",
    "print(beta_hat)"
   ]
  },
  {
   "cell_type": "code",
   "execution_count": 94,
   "metadata": {},
   "outputs": [],
   "source": [
    "adv['Pred2'] = [5.77494797 + item*0.04690121 + item2*0.04421942 for item, item2 in zip(adv['TV'],adv['Newspaper'])] "
   ]
  },
  {
   "cell_type": "code",
   "execution_count": 95,
   "metadata": {},
   "outputs": [
    {
     "name": "stdout",
     "output_type": "stream",
     "text": [
      "3.0972260265412905\n"
     ]
    }
   ],
   "source": [
    "tss2 = sum([(adv['Sales'].mean() - adv.loc[n, 'Sales'])**2 for n in range(len(adv))]) \n",
    "rss2 = sum([(adv.loc[n, 'Pred2'] - adv.loc[n, 'Sales'])**2 for n in range(len(adv))])\n",
    "r_squ2 = 1 - (rss2 / tss2)\n",
    "a_r_squ2 = 1 - ((1 - R_SQU2) * (len(adv) - 1)/(len(adv) - 2 - 1))\n",
    "rmse2 = np.sqrt(np.mean([(adv.loc[n,'Pred2'] - adv.loc[n,'Sales'])**2 for n in range(len(adv))]))\n",
    "print(rmse2)"
   ]
  },
  {
   "cell_type": "markdown",
   "metadata": {},
   "source": [
    "### 6. Adding dummy variables"
   ]
  },
  {
   "cell_type": "markdown",
   "metadata": {},
   "source": [
    "Would including `Region` in your prediction have an impact?"
   ]
  },
  {
   "cell_type": "code",
   "execution_count": 96,
   "metadata": {},
   "outputs": [
    {
     "data": {
      "text/plain": [
       "Region\n",
       "1    14.023404\n",
       "2    14.600000\n",
       "3    13.898039\n",
       "4    13.568627\n",
       "Name: Sales, dtype: float64"
      ]
     },
     "execution_count": 96,
     "metadata": {},
     "output_type": "execute_result"
    }
   ],
   "source": [
    "adv.groupby('Region')['Sales'].mean()"
   ]
  },
  {
   "cell_type": "code",
   "execution_count": 97,
   "metadata": {},
   "outputs": [],
   "source": [
    "# Create new variables for each region\n",
    "region_dummies = pd.get_dummies(adv.Region, prefix='Region')"
   ]
  },
  {
   "cell_type": "code",
   "execution_count": 98,
   "metadata": {},
   "outputs": [],
   "source": [
    "# Keep all but one of them\n",
    "region_dummies = region_dummies.iloc[:, 1:]"
   ]
  },
  {
   "cell_type": "code",
   "execution_count": 99,
   "metadata": {},
   "outputs": [],
   "source": [
    "# Merge your dummy variables back onto your Advertising dataset\n",
    "adv = pd.concat([adv, region_dummies], axis=1)"
   ]
  },
  {
   "cell_type": "code",
   "execution_count": 100,
   "metadata": {},
   "outputs": [],
   "source": [
    "# create new feature 'Area', randomly assign as 'rural' or 'suburban' or 'urban'\n",
    "\n",
    "# random seeds ensure that results are consistant \n",
    "np.random.seed(12345)\n",
    "\n",
    "nums = np.random.rand(len(adv))\n",
    "mask_suburban = (nums > 0.33) & (nums < 0.66)\n",
    "mask_urban = nums > 0.66\n",
    "adv['Area'] = 'rural'\n",
    "adv.loc[mask_suburban, 'Area'] = 'suburban'\n",
    "adv.loc[mask_urban, 'Area'] = 'urban'"
   ]
  },
  {
   "cell_type": "markdown",
   "metadata": {},
   "source": [
    "### 7. Exercise: create dummy variables"
   ]
  },
  {
   "cell_type": "markdown",
   "metadata": {},
   "source": [
    "__(5 min.)__ Create dummy variables `Area_suburban` and `Area_urban`"
   ]
  },
  {
   "cell_type": "code",
   "execution_count": 101,
   "metadata": {},
   "outputs": [],
   "source": [
    "# Create new variables for each area\n",
    "area_dummies = pd.get_dummies(adv.Area, prefix='Area')"
   ]
  },
  {
   "cell_type": "code",
   "execution_count": 102,
   "metadata": {},
   "outputs": [],
   "source": [
    "# Keep all but one of them\n",
    "area_dummies = area_dummies.iloc[:, 1:]"
   ]
  },
  {
   "cell_type": "code",
   "execution_count": 103,
   "metadata": {},
   "outputs": [],
   "source": [
    "# Merge your dummy variables back onto your Advertising dataset\n",
    "adv = pd.concat([adv, area_dummies], axis=1)"
   ]
  },
  {
   "cell_type": "code",
   "execution_count": 104,
   "metadata": {},
   "outputs": [
    {
     "data": {
      "text/html": [
       "<div>\n",
       "<style scoped>\n",
       "    .dataframe tbody tr th:only-of-type {\n",
       "        vertical-align: middle;\n",
       "    }\n",
       "\n",
       "    .dataframe tbody tr th {\n",
       "        vertical-align: top;\n",
       "    }\n",
       "\n",
       "    .dataframe thead th {\n",
       "        text-align: right;\n",
       "    }\n",
       "</style>\n",
       "<table border=\"1\" class=\"dataframe\">\n",
       "  <thead>\n",
       "    <tr style=\"text-align: right;\">\n",
       "      <th></th>\n",
       "      <th>TV</th>\n",
       "      <th>Radio</th>\n",
       "      <th>Newspaper</th>\n",
       "      <th>Sales</th>\n",
       "      <th>Region</th>\n",
       "      <th>Pred1</th>\n",
       "      <th>Pred2</th>\n",
       "      <th>Region_2</th>\n",
       "      <th>Region_3</th>\n",
       "      <th>Region_4</th>\n",
       "      <th>Area</th>\n",
       "      <th>Area_suburban</th>\n",
       "      <th>Area_urban</th>\n",
       "    </tr>\n",
       "  </thead>\n",
       "  <tbody>\n",
       "    <tr>\n",
       "      <th>0</th>\n",
       "      <td>230.1</td>\n",
       "      <td>37.8</td>\n",
       "      <td>69.2</td>\n",
       "      <td>22.1</td>\n",
       "      <td>1</td>\n",
       "      <td>17.970774</td>\n",
       "      <td>19.626900</td>\n",
       "      <td>0</td>\n",
       "      <td>0</td>\n",
       "      <td>0</td>\n",
       "      <td>urban</td>\n",
       "      <td>0</td>\n",
       "      <td>1</td>\n",
       "    </tr>\n",
       "    <tr>\n",
       "      <th>1</th>\n",
       "      <td>44.5</td>\n",
       "      <td>39.3</td>\n",
       "      <td>45.1</td>\n",
       "      <td>10.4</td>\n",
       "      <td>1</td>\n",
       "      <td>9.147974</td>\n",
       "      <td>9.856348</td>\n",
       "      <td>0</td>\n",
       "      <td>0</td>\n",
       "      <td>0</td>\n",
       "      <td>rural</td>\n",
       "      <td>0</td>\n",
       "      <td>0</td>\n",
       "    </tr>\n",
       "    <tr>\n",
       "      <th>2</th>\n",
       "      <td>17.2</td>\n",
       "      <td>45.9</td>\n",
       "      <td>69.3</td>\n",
       "      <td>9.3</td>\n",
       "      <td>1</td>\n",
       "      <td>7.850224</td>\n",
       "      <td>9.646055</td>\n",
       "      <td>0</td>\n",
       "      <td>0</td>\n",
       "      <td>0</td>\n",
       "      <td>rural</td>\n",
       "      <td>0</td>\n",
       "      <td>0</td>\n",
       "    </tr>\n",
       "    <tr>\n",
       "      <th>3</th>\n",
       "      <td>151.5</td>\n",
       "      <td>41.3</td>\n",
       "      <td>58.5</td>\n",
       "      <td>18.5</td>\n",
       "      <td>1</td>\n",
       "      <td>14.234395</td>\n",
       "      <td>15.467317</td>\n",
       "      <td>0</td>\n",
       "      <td>0</td>\n",
       "      <td>0</td>\n",
       "      <td>rural</td>\n",
       "      <td>0</td>\n",
       "      <td>0</td>\n",
       "    </tr>\n",
       "    <tr>\n",
       "      <th>4</th>\n",
       "      <td>180.8</td>\n",
       "      <td>10.8</td>\n",
       "      <td>58.4</td>\n",
       "      <td>12.9</td>\n",
       "      <td>1</td>\n",
       "      <td>15.627218</td>\n",
       "      <td>16.837101</td>\n",
       "      <td>0</td>\n",
       "      <td>0</td>\n",
       "      <td>0</td>\n",
       "      <td>suburban</td>\n",
       "      <td>1</td>\n",
       "      <td>0</td>\n",
       "    </tr>\n",
       "  </tbody>\n",
       "</table>\n",
       "</div>"
      ],
      "text/plain": [
       "      TV  Radio  Newspaper  Sales  Region      Pred1      Pred2  Region_2  \\\n",
       "0  230.1   37.8       69.2   22.1       1  17.970774  19.626900         0   \n",
       "1   44.5   39.3       45.1   10.4       1   9.147974   9.856348         0   \n",
       "2   17.2   45.9       69.3    9.3       1   7.850224   9.646055         0   \n",
       "3  151.5   41.3       58.5   18.5       1  14.234395  15.467317         0   \n",
       "4  180.8   10.8       58.4   12.9       1  15.627218  16.837101         0   \n",
       "\n",
       "   Region_3  Region_4      Area  Area_suburban  Area_urban  \n",
       "0         0         0     urban              0           1  \n",
       "1         0         0     rural              0           0  \n",
       "2         0         0     rural              0           0  \n",
       "3         0         0     rural              0           0  \n",
       "4         0         0  suburban              1           0  "
      ]
     },
     "execution_count": 104,
     "metadata": {},
     "output_type": "execute_result"
    }
   ],
   "source": [
    "adv.head()"
   ]
  },
  {
   "cell_type": "markdown",
   "metadata": {},
   "source": [
    "### 8. Final exercise: create a function for our linear regression model"
   ]
  },
  {
   "cell_type": "markdown",
   "metadata": {},
   "source": [
    "__(15 min.)__ You've found that this model is successful, so you want to make it reusable for future datasets. Write a function that quickly evalutes a few different combinations of variables and records your best model."
   ]
  },
  {
   "cell_type": "code",
   "execution_count": 105,
   "metadata": {},
   "outputs": [],
   "source": [
    "def estimate_optimal_beta(df, features, target):\n",
    "    \"\"\"\n",
    "    Parameters\n",
    "    ----------\n",
    "    df : pandas DataFrame\n",
    "    features : list\n",
    "        List of features (columns) in df to use for predictions \n",
    "    target : str\n",
    "        Name of column in df to use as target variable\n",
    "    \n",
    "    Returns\n",
    "    -------\n",
    "    beta : numpy matrix\n",
    "    \n",
    "    \"\"\"\n",
    "\n",
    "    df['constant'] = 1\n",
    "    features.insert(0, 'constant')\n",
    "    \n",
    "    X = np.matrix(df[features])\n",
    "    Y = np.matrix(df[target])\n",
    "    \n",
    "    beta = (X.T * X).I * X.T * Y\n",
    "    \n",
    "    return beta"
   ]
  },
  {
   "cell_type": "code",
   "execution_count": 106,
   "metadata": {},
   "outputs": [],
   "source": [
    "beta = estimate_optimal_beta(adv, ['TV','Radio','Newspaper','Region_2', 'Region_3', 'Region_4'], ['Sales'])"
   ]
  },
  {
   "cell_type": "code",
   "execution_count": 107,
   "metadata": {},
   "outputs": [],
   "source": [
    "def make_lr_predictions(df, features, coefficients):\n",
    "    \"\"\"\n",
    "    Parameters\n",
    "    ----------\n",
    "    df : pandas DataFrame\n",
    "    features : list\n",
    "        List of features (columns) in df to use for predictions \n",
    "    coefs : numpy matrix\n",
    "        Coefficients calculated in estimate_optimal_lr_coefficients()\n",
    "    \n",
    "    Returns\n",
    "    -------\n",
    "    preds : list\n",
    "    \n",
    "    \"\"\"\n",
    "    \n",
    "    df['constant'] = 1\n",
    "    features.insert(0, 'constant')\n",
    "    \n",
    "    preds = []\n",
    "    for n in range(len(df)):\n",
    "        value = 0\n",
    "        for num, item in enumerate(features):\n",
    "            value += df.loc[n, item] * beta.tolist()[num][0]\n",
    "        preds.append(value)\n",
    "        \n",
    "    return preds"
   ]
  },
  {
   "cell_type": "code",
   "execution_count": 108,
   "metadata": {},
   "outputs": [],
   "source": [
    "preds3 = make_lr_predictions(adv, ['TV','Radio','Newspaper','Region_2', 'Region_3', 'Region_4'], beta)\n",
    "adv['pred3'] = preds3"
   ]
  },
  {
   "cell_type": "code",
   "execution_count": 109,
   "metadata": {},
   "outputs": [],
   "source": [
    "def evaluate_lr_predictions(df, target, pred_column_name):\n",
    "    \"\"\"\n",
    "    Parameters\n",
    "    ----------\n",
    "    df : pandas DataFrame\n",
    "    target : str\n",
    "    pred_column_name : str\n",
    "    \n",
    "    Returns\n",
    "    -------\n",
    "    r_squ, rmse : float, float\n",
    "    \n",
    "    \"\"\"\n",
    "    \n",
    "    tss = sum([(df[target].mean() - df.loc[n, target])**2 for n in range(len(df))])[0]\n",
    "    rss = sum([(df.loc[n, pred_column_name] - df.loc[n, target])**2 for n in range(len(df))])[0]\n",
    "    r_squ = 1 - (rss / tss)\n",
    "    rmse = np.sqrt(np.mean([(df.loc[n, pred_column_name] - df.loc[n, target])**2 for n in range(len(df))]))\n",
    "    \n",
    "    return r_squ, rmse"
   ]
  },
  {
   "cell_type": "code",
   "execution_count": 110,
   "metadata": {},
   "outputs": [
    {
     "name": "stdout",
     "output_type": "stream",
     "text": [
      "0.8994897715572078 1.6499679669179734\n"
     ]
    }
   ],
   "source": [
    "r_squ3, rmse3 = evaluate_lr_predictions(adv, ['Sales'], 'pred3')\n",
    "print(r_squ3, rmse3)"
   ]
  },
  {
   "cell_type": "markdown",
   "metadata": {},
   "source": [
    "### 9. Reference\n",
    "- [Regression](https://en.wikipedia.org/wiki/Regression_analysis) \n",
    "- [seaborn plots](https://pypi.org/project/seaborn/) \n",
    "- [scikit_learn](http://scikit-learn.org/stable/) \n",
    "- [scatter plots](https://matplotlib.org/api/_as_gen/matplotlib.pyplot.scatter.html)\n",
    "- [Mean square error](http://scikit-learn.org/stable/modules/generated/sklearn.metrics.mean_squared_error.html)"
   ]
  }
 ],
 "metadata": {
  "kernelspec": {
   "display_name": "Python 3",
   "language": "python",
   "name": "python3"
  },
  "language_info": {
   "codemirror_mode": {
    "name": "ipython",
    "version": 3
   },
   "file_extension": ".py",
   "mimetype": "text/x-python",
   "name": "python",
   "nbconvert_exporter": "python",
   "pygments_lexer": "ipython3",
   "version": "3.7.7"
  }
 },
 "nbformat": 4,
 "nbformat_minor": 2
}
