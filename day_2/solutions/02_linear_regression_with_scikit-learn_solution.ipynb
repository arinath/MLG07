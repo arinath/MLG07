{
 "cells": [
  {
   "cell_type": "markdown",
   "metadata": {},
   "source": [
    "# Linear Regression with `scikit-learn`"
   ]
  },
  {
   "cell_type": "markdown",
   "metadata": {},
   "source": [
    "### Table of Contents\n",
    "\n",
    "1. [Splitting data into training and testing data](#1.-Splitting-data-into-training-and-testing-data)\n",
    "2. [EDA with visualizations](#2.-EDA-with-visualizations)\n",
    "3. [Fitting a model with `LinearRegression` from `scikit-learn`](#3.-Fitting-a-model-with-`LinearRegression`-from-`scikit-learn`)\n",
    "4. [Exercise: linear regression with `scikit-learn`](#4.-Exercise:-linear-regression-with-`scikit-learn`)\n",
    "5. [Fitting a model with `LinearRegression` from `scikit-learn` (cont.)](#3.-Fitting-a-model-with-`LinearRegression`-from-`scikit-learn` (cont.))\n",
    "6. [Exercise: cross-validated linear regression with multiple variables](#5.-Exercise:-cross-validated-linear-regression-with-multiple-variables)\n",
    "7. [Interaction terms](#6.-Interaction-terms)\n",
    "8. [Exercise: interaction terms](#7.-Exercise:-interaction-terms)\n",
    "9. [Reference](#8.-Reference)"
   ]
  },
  {
   "cell_type": "markdown",
   "metadata": {},
   "source": [
    "### 1. Splitting data into training and testing data"
   ]
  },
  {
   "cell_type": "code",
   "execution_count": 1,
   "metadata": {},
   "outputs": [],
   "source": [
    "# importing libraries\n",
    "\n",
    "import matplotlib.pyplot as plt\n",
    "import numpy as np\n",
    "import pandas as pd\n",
    "from sklearn.linear_model import LinearRegression\n",
    "from sklearn.metrics import mean_squared_error\n",
    "from sklearn.model_selection import cross_val_score, train_test_split"
   ]
  },
  {
   "cell_type": "code",
   "execution_count": 2,
   "metadata": {},
   "outputs": [
    {
     "data": {
      "text/html": [
       "<div>\n",
       "<style scoped>\n",
       "    .dataframe tbody tr th:only-of-type {\n",
       "        vertical-align: middle;\n",
       "    }\n",
       "\n",
       "    .dataframe tbody tr th {\n",
       "        vertical-align: top;\n",
       "    }\n",
       "\n",
       "    .dataframe thead th {\n",
       "        text-align: right;\n",
       "    }\n",
       "</style>\n",
       "<table border=\"1\" class=\"dataframe\">\n",
       "  <thead>\n",
       "    <tr style=\"text-align: right;\">\n",
       "      <th></th>\n",
       "      <th>TV</th>\n",
       "      <th>Radio</th>\n",
       "      <th>Newspaper</th>\n",
       "      <th>Sales</th>\n",
       "      <th>Region</th>\n",
       "    </tr>\n",
       "  </thead>\n",
       "  <tbody>\n",
       "    <tr>\n",
       "      <th>0</th>\n",
       "      <td>230.1</td>\n",
       "      <td>37.8</td>\n",
       "      <td>69.2</td>\n",
       "      <td>22.1</td>\n",
       "      <td>1</td>\n",
       "    </tr>\n",
       "    <tr>\n",
       "      <th>1</th>\n",
       "      <td>44.5</td>\n",
       "      <td>39.3</td>\n",
       "      <td>45.1</td>\n",
       "      <td>10.4</td>\n",
       "      <td>1</td>\n",
       "    </tr>\n",
       "    <tr>\n",
       "      <th>2</th>\n",
       "      <td>17.2</td>\n",
       "      <td>45.9</td>\n",
       "      <td>69.3</td>\n",
       "      <td>9.3</td>\n",
       "      <td>1</td>\n",
       "    </tr>\n",
       "    <tr>\n",
       "      <th>3</th>\n",
       "      <td>151.5</td>\n",
       "      <td>41.3</td>\n",
       "      <td>58.5</td>\n",
       "      <td>18.5</td>\n",
       "      <td>1</td>\n",
       "    </tr>\n",
       "    <tr>\n",
       "      <th>4</th>\n",
       "      <td>180.8</td>\n",
       "      <td>10.8</td>\n",
       "      <td>58.4</td>\n",
       "      <td>12.9</td>\n",
       "      <td>1</td>\n",
       "    </tr>\n",
       "  </tbody>\n",
       "</table>\n",
       "</div>"
      ],
      "text/plain": [
       "      TV  Radio  Newspaper  Sales  Region\n",
       "0  230.1   37.8       69.2   22.1       1\n",
       "1   44.5   39.3       45.1   10.4       1\n",
       "2   17.2   45.9       69.3    9.3       1\n",
       "3  151.5   41.3       58.5   18.5       1\n",
       "4  180.8   10.8       58.4   12.9       1"
      ]
     },
     "execution_count": 2,
     "metadata": {},
     "output_type": "execute_result"
    }
   ],
   "source": [
    "# Importing sales and advertising channels data\n",
    "\n",
    "adv = pd.read_csv('../data/advertising.csv')\n",
    "adv.head()"
   ]
  },
  {
   "cell_type": "code",
   "execution_count": 3,
   "metadata": {},
   "outputs": [],
   "source": [
    "# Split data into train and test\n",
    "\n",
    "train, test = train_test_split(adv,\n",
    "                               test_size=0.3,\n",
    "                               random_state=1)\n",
    "\n",
    "\n",
    "# Convert train test splits to dataframes, for convenience\n",
    "\n",
    "train = pd.DataFrame(data=train,\n",
    "                     columns=adv.columns)\n",
    "\n",
    "test = pd.DataFrame(data=test,\n",
    "                    columns=adv.columns)"
   ]
  },
  {
   "cell_type": "markdown",
   "metadata": {},
   "source": [
    "### 2. EDA with visualizations"
   ]
  },
  {
   "cell_type": "markdown",
   "metadata": {},
   "source": [
    "#### Plot radio spending against sales"
   ]
  },
  {
   "cell_type": "code",
   "execution_count": 4,
   "metadata": {},
   "outputs": [
    {
     "data": {
      "image/png": "[encoded data removed]",
      "text/plain": [
       "<Figure size 720x648 with 1 Axes>"
      ]
     },
     "metadata": {
      "needs_background": "light"
     },
     "output_type": "display_data"
    }
   ],
   "source": [
    "plt.figure(figsize=(10,9))\n",
    "\n",
    "plt.scatter(train.Radio,\n",
    "            train.Sales,\n",
    "            alpha=0.7)  # Plot the raw data\n",
    "\n",
    "plt.xlabel(\"Radio\")\n",
    "plt.ylabel(\"Sales\")\n",
    "plt.title('Scatter plot of spendings on Radio with Sales for training data')\n",
    "\n",
    "plt.show()"
   ]
  },
  {
   "cell_type": "markdown",
   "metadata": {},
   "source": [
    "#### Plot newspaper spending against sales"
   ]
  },
  {
   "cell_type": "code",
   "execution_count": 5,
   "metadata": {},
   "outputs": [
    {
     "data": {
      "image/png": "[encoded data removed]",
      "text/plain": [
       "<Figure size 720x648 with 1 Axes>"
      ]
     },
     "metadata": {
      "needs_background": "light"
     },
     "output_type": "display_data"
    }
   ],
   "source": [
    "plt.figure(figsize=(10,9))\n",
    "\n",
    "plt.scatter(train.Newspaper,\n",
    "            train.Sales,\n",
    "            alpha=0.7)  # Plot the raw data\n",
    "\n",
    "plt.xlabel(\"Newspaper\")\n",
    "plt.ylabel(\"Sales\")\n",
    "plt.title('Scatter plot of spendings on Newspaper with Sales for training data')\n",
    "\n",
    "plt.show()"
   ]
  },
  {
   "cell_type": "markdown",
   "metadata": {},
   "source": [
    "#### Plot TV spending against sales"
   ]
  },
  {
   "cell_type": "code",
   "execution_count": 6,
   "metadata": {},
   "outputs": [
    {
     "data": {
      "image/png": "[encoded data removed]",
      "text/plain": [
       "<Figure size 720x648 with 1 Axes>"
      ]
     },
     "metadata": {
      "needs_background": "light"
     },
     "output_type": "display_data"
    }
   ],
   "source": [
    "plt.figure(figsize=(10,9))\n",
    "\n",
    "plt.scatter(train.TV,\n",
    "            train.Sales,\n",
    "            alpha=0.7)  # Plot the raw data\n",
    "\n",
    "plt.xlabel(\"TV\")\n",
    "plt.ylabel(\"Sales\")\n",
    "plt.title('Scatter plot of spendings on TV with Sales for training data')\n",
    "\n",
    "plt.show()"
   ]
  },
  {
   "cell_type": "markdown",
   "metadata": {},
   "source": [
    "### Plot the region against sales"
   ]
  },
  {
   "cell_type": "code",
   "execution_count": 7,
   "metadata": {},
   "outputs": [
    {
     "data": {
      "image/png": "[encoded data removed]",
      "text/plain": [
       "<Figure size 720x648 with 1 Axes>"
      ]
     },
     "metadata": {
      "needs_background": "light"
     },
     "output_type": "display_data"
    }
   ],
   "source": [
    "plt.figure(figsize=(10,9))\n",
    "\n",
    "plt.scatter(train.Region,\n",
    "            train.Sales,\n",
    "            alpha=0.7)  # Plot the raw data\n",
    "\n",
    "plt.xlabel(\"Region\")\n",
    "plt.ylabel(\"Sales\")\n",
    "plt.title('Scatter plot of Region with Sales for training data')\n",
    "\n",
    "plt.show()"
   ]
  },
  {
   "cell_type": "markdown",
   "metadata": {},
   "source": [
    "### 3. Fitting a model with `LinearRegression` from `scikit-learn` "
   ]
  },
  {
   "cell_type": "code",
   "execution_count": 8,
   "metadata": {},
   "outputs": [
    {
     "data": {
      "text/plain": [
       "LinearRegression(copy_X=True, fit_intercept=True, n_jobs=None, normalize=False)"
      ]
     },
     "execution_count": 8,
     "metadata": {},
     "output_type": "execute_result"
    }
   ],
   "source": [
    "# Fit a linear regression model using OLS\n",
    "# Reference: http://scikit-learn.org/stable/modules/generated/sklearn.linear_model.LinearRegression.html\n",
    "\n",
    "slm = LinearRegression()\n",
    "slm.fit(train['Radio'][:,np.newaxis],\n",
    "        train['Sales'])"
   ]
  },
  {
   "cell_type": "code",
   "execution_count": 9,
   "metadata": {},
   "outputs": [
    {
     "name": "stdout",
     "output_type": "stream",
     "text": [
      "Linear Regression model score for the training data is 0.41293932917162335\n",
      "Linear Regression model coeficient for the training data is [0.1874808]\n",
      "Linear Regression model intercept for the training data is 9.440936561425886\n"
     ]
    }
   ],
   "source": [
    "# Evaluate the output for the model fitted on the training data\n",
    "\n",
    "intercept = slm.intercept_\n",
    "coef = slm.coef_\n",
    "score = slm.score(test['Radio'][:,np.newaxis],\n",
    "                  test['Sales'])\n",
    "\n",
    "print('Linear Regression model score for the training data is {}'.format(score))\n",
    "print('Linear Regression model coeficient for the training data is {}'.format(coef))\n",
    "print('Linear Regression model intercept for the training data is {}'.format(intercept))\n",
    "\n",
    "# Reference: http://scikit-learn.org/stable/modules/generated/sklearn.linear_model.LinearRegression.html#sklearn.linear_model.LinearRegression.score"
   ]
  },
  {
   "cell_type": "markdown",
   "metadata": {},
   "source": [
    "### 4. Exercise: linear regression with `scikit-learn`"
   ]
  },
  {
   "cell_type": "markdown",
   "metadata": {},
   "source": [
    "__(10 min.)__\n",
    "\n",
    "1. Given coefficient estimates, predict the y-value for `train.Radio.min()` & `train.Radio.max()`\n",
    "2. Create a scatter plot that also shows the data and the line of best fit\n",
    "\n",
    "___Hint___: Use the convention `plt.plot([x_min, x_max], [y_min, y_max])` and `plt.scatter(x, y)` next to each other"
   ]
  },
  {
   "cell_type": "code",
   "execution_count": 10,
   "metadata": {},
   "outputs": [
    {
     "name": "stdout",
     "output_type": "stream",
     "text": [
      "9.440936561425886 18.70248817935877\n"
     ]
    }
   ],
   "source": [
    "x_min = train.Radio.min()\n",
    "x_max = train.Radio.max()\n",
    "y_min, y_max = slm.predict([[x_min],[x_max]])\n",
    "print(y_min, y_max)"
   ]
  },
  {
   "cell_type": "code",
   "execution_count": 11,
   "metadata": {},
   "outputs": [
    {
     "data": {
      "text/plain": [
       "<matplotlib.collections.PathCollection at 0x1ea1d0c3e88>"
      ]
     },
     "execution_count": 11,
     "metadata": {},
     "output_type": "execute_result"
    },
    {
     "data": {
      "image/png": "[encoded data removed]",
      "text/plain": [
       "<Figure size 432x288 with 1 Axes>"
      ]
     },
     "metadata": {
      "needs_background": "light"
     },
     "output_type": "display_data"
    }
   ],
   "source": [
    "plt.plot([x_min, x_max], [y_min, y_max])\n",
    "plt.scatter(train.Radio, train.Sales) #Or whatever the target variable is called."
   ]
  },
  {
   "cell_type": "markdown",
   "metadata": {},
   "source": [
    "### 5. Fitting a model with `LinearRegression` from `scikit-learn` (cont.)"
   ]
  },
  {
   "cell_type": "code",
   "execution_count": 12,
   "metadata": {},
   "outputs": [
    {
     "name": "stdout",
     "output_type": "stream",
     "text": [
      "Mean sqauared error for Linear Regression model is 3.8215351050686674\n"
     ]
    }
   ],
   "source": [
    "# Evaluate the fit of the model based off of the training set\n",
    "\n",
    "preds = slm.predict(test['Radio'][:,np.newaxis])\n",
    "\n",
    "from sklearn.metrics import mean_squared_error\n",
    "# Reference: http://scikit-learn.org/stable/modules/generated/sklearn.metrics.mean_squared_error.html\n",
    "\n",
    "\n",
    "mse = np.sqrt(mean_squared_error(test['Sales'],\n",
    "                                 preds))\n",
    "\n",
    "print('Mean sqauared error for Linear Regression model is {}'.format(mse))"
   ]
  },
  {
   "cell_type": "code",
   "execution_count": 13,
   "metadata": {},
   "outputs": [
    {
     "name": "stdout",
     "output_type": "stream",
     "text": [
      "Mean squared cross validation score for Linear Regression model is 4.269163534741655\n"
     ]
    }
   ],
   "source": [
    "# Evaluate the model fit based off of cross validation\n",
    "\n",
    "from sklearn.model_selection import cross_val_score\n",
    "# Reference: http://scikit-learn.org/stable/modules/generated/sklearn.model_selection.cross_val_score.html\n",
    "\n",
    "scores = cross_val_score(slm, adv['Radio'][:,np.newaxis],\n",
    "                         adv['Sales'],\n",
    "                         cv=3,\n",
    "                         scoring='neg_mean_squared_error')\n",
    "\n",
    "mscvs = np.mean(np.sqrt(-scores))\n",
    "\n",
    "print('Mean squared cross validation score for Linear Regression model is {}'.format(mscvs))"
   ]
  },
  {
   "cell_type": "markdown",
   "metadata": {},
   "source": [
    "### 6. Exercise: cross-validated linear regression with multiple variables"
   ]
  },
  {
   "cell_type": "markdown",
   "metadata": {},
   "source": [
    "__(10 min.)__ \n",
    "1. Run a multiple regression with Radio and TV spending. \n",
    "  - Which coefficient has a higher value?\n",
    "  - What does this suggest practically?\n",
    "2. Calculate the 5-fold CV RMSE. Is it better or worse than before?"
   ]
  },
  {
   "cell_type": "code",
   "execution_count": 14,
   "metadata": {},
   "outputs": [
    {
     "data": {
      "text/plain": [
       "LinearRegression(copy_X=True, fit_intercept=True, n_jobs=None, normalize=False)"
      ]
     },
     "execution_count": 14,
     "metadata": {},
     "output_type": "execute_result"
    }
   ],
   "source": [
    "reg = LinearRegression()\n",
    "X = train[['Radio', 'TV']]\n",
    "X_test = test[['Radio', 'TV']]\n",
    "reg.fit(X, train['Sales'])"
   ]
  },
  {
   "cell_type": "code",
   "execution_count": 15,
   "metadata": {},
   "outputs": [
    {
     "name": "stdout",
     "output_type": "stream",
     "text": [
      "Linear Regression model score for the training data is 0.92303218502568\n",
      "Linear Regression model coeficient for the training data is [0.17765046 0.04697554]\n",
      "Linear Regression model intercept for the training data is 2.9647671191401574\n"
     ]
    }
   ],
   "source": [
    "intercept = reg.intercept_\n",
    "coef = reg.coef_\n",
    "score = reg.score(X_test, test['Sales'])\n",
    "print('Linear Regression model score for the training data is {}'.format(score))\n",
    "print('Linear Regression model coeficient for the training data is {}'.format(coef))\n",
    "print('Linear Regression model intercept for the training data is {}'.format(intercept))"
   ]
  },
  {
   "cell_type": "code",
   "execution_count": 16,
   "metadata": {},
   "outputs": [
    {
     "name": "stdout",
     "output_type": "stream",
     "text": [
      "Mean squared error for Linear Regression model is 1.3837286688408894\n"
     ]
    }
   ],
   "source": [
    "# 1) \n",
    "# Evaluate the fit of the model based off of the training set\n",
    "preds = reg.predict(X_test)\n",
    "# Reference: http://scikit-learn.org/stable/modules/generated/sklearn.metrics.mean_squared_error.html\n",
    "mse = np.sqrt(mean_squared_error(test['Sales'],preds))\n",
    "print('Mean squared error for Linear Regression model is {}'.format(mse))"
   ]
  },
  {
   "cell_type": "code",
   "execution_count": 17,
   "metadata": {},
   "outputs": [
    {
     "name": "stdout",
     "output_type": "stream",
     "text": [
      "Mean squared cross validation score for Linear Regression model is 1.6895249120618836\n"
     ]
    }
   ],
   "source": [
    "# 2)\n",
    "# Evaluate the model fit based off of cross validation\n",
    "# Evaluate the model fit based off of cross validation\n",
    "# Reference: http://scikit-learn.org/stable/modules/generated/sklearn.model_selection.cross_val_score.html\n",
    "scores = cross_val_score(reg, adv[['Radio', 'TV']], adv['Sales'], cv=3, scoring='neg_mean_squared_error')\n",
    "mscvs = np.mean(np.sqrt(-scores))\n",
    "print('Mean squared cross validation score for Linear Regression model is {}'.format(mscvs))"
   ]
  },
  {
   "cell_type": "markdown",
   "metadata": {},
   "source": [
    "### 7. Interaction terms"
   ]
  },
  {
   "cell_type": "markdown",
   "metadata": {},
   "source": [
    "__What__: Interaction measures the combined effect of two variables acting together\n",
    "\n",
    "__Why__: This is a way to make predictions and inferences when two input variables are correlated with each other\n",
    "\n",
    "__Note__: Whenever you include interaction terms, it is conventional to include the main effects as well"
   ]
  },
  {
   "cell_type": "code",
   "execution_count": 18,
   "metadata": {},
   "outputs": [],
   "source": [
    "# Creating a interaction variable using expenses on Radio and TV\n",
    "\n",
    "train['Radio_TV'] = train['Radio'] * train['TV']\n",
    "lmi = LinearRegression()\n",
    "\n",
    "\n",
    "# Fitting the model using new interaction variable created\n",
    "\n",
    "lmi.fit(train[['TV', 'Radio', 'Radio_TV']],\n",
    "        train['Sales'])\n",
    "\n",
    "lmi_coef = lmi.coef_ "
   ]
  },
  {
   "cell_type": "markdown",
   "metadata": {},
   "source": [
    "### 8. Exercise: interaction terms"
   ]
  },
  {
   "cell_type": "markdown",
   "metadata": {},
   "source": [
    "__(10 min.)__ Check to see if any interaction terms are worth including in the model"
   ]
  },
  {
   "cell_type": "code",
   "execution_count": 19,
   "metadata": {},
   "outputs": [
    {
     "name": "stdout",
     "output_type": "stream",
     "text": [
      "Linear Regression model score for the training data is 0.9794838368850284\n",
      "Mean squared error for Linear Regression model is 0.714404911778239\n"
     ]
    }
   ],
   "source": [
    "test['Radio_TV'] = test['Radio'] * test['TV']\n",
    "score = lmi.score(test[['TV', 'Radio', 'Radio_TV']], test['Sales'])\n",
    "print('Linear Regression model score for the training data is {}'.format(score))\n",
    "# Evaluate the fit of the model based off of the training set\n",
    "preds = lmi.predict(test[['TV', 'Radio', 'Radio_TV']])\n",
    "# Reference: http://scikit-learn.org/stable/modules/generated/sklearn.metrics.mean_squared_error.html\n",
    "mse = np.sqrt(mean_squared_error(test['Sales'],preds))\n",
    "print('Mean squared error for Linear Regression model is {}'.format(mse))"
   ]
  },
  {
   "cell_type": "markdown",
   "metadata": {},
   "source": [
    "### 9. Reference"
   ]
  },
  {
   "cell_type": "markdown",
   "metadata": {},
   "source": [
    "- [Linear Regression (with `scikit-learn`)](https://towardsdatascience.com/linear-regression-detailed-view-ea73175f6e86)\n",
    "- [`scikit-learn` `LinearRegression`](http://scikit-learn.org/stable/modules/generated/sklearn.linear_model.LinearRegression.html)\n",
    "- [`scikit-learn` LR score](http://scikit-learn.org/stable/modules/generated/sklearn.linear_model.LinearRegression.html#sklearn.linear_model.LinearRegression.score)\n",
    "- [Mean square error](http://scikit-learn.org/stable/modules/generated/sklearn.metrics.mean_squared_error.html)\n",
    "- [Cross validation score](http://scikit-learn.org/stable/modules/generated/sklearn.model_selection.cross_val_score.html)"
   ]
  }
 ],
 "metadata": {
  "kernelspec": {
   "display_name": "Python 3",
   "language": "python",
   "name": "python3"
  },
  "language_info": {
   "codemirror_mode": {
    "name": "ipython",
    "version": 3
   },
   "file_extension": ".py",
   "mimetype": "text/x-python",
   "name": "python",
   "nbconvert_exporter": "python",
   "pygments_lexer": "ipython3",
   "version": "3.7.7"
  }
 },
 "nbformat": 4,
 "nbformat_minor": 2
}
